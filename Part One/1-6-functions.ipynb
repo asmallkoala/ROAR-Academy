{
 "cells": [
  {
   "cell_type": "markdown",
   "metadata": {},
   "source": [
    "**Learning Python -- The Programming Language for Artificial Intelligence and Data Science**\n",
    "\n",
    "**Lecture 6: Functions**\n",
    "\n",
    "**By Allen Y. Yang, PhD**\n",
    "\n",
    "(c) Copyright Intelligent Racing Inc., 2021-2024. All rights reserved. Materials may NOT be distributed or used for any commercial purposes."
   ]
  },
  {
   "cell_type": "markdown",
   "metadata": {},
   "source": [
    "# Keywords\n",
    "\n",
    "In our course so far, we have discussed three types of functions. A function is a block of code that is packed together that is given a function name and possibly a list of input arguments and and output results. \n",
    "\n",
    "* Built-in stand-alone functions: Examples include print(), type(), int(), and range().\n",
    "* Imported functions: Examples include math.floor(), time.time(), and random.randint().\n",
    "* Methods in classes: Examples include list.reverse(), list.append(), and string.lower().\n",
    "    \n",
    "In this lecture, we will learn how to code user-defined Python functions.\n",
    "\n",
    "# Define Functions"
   ]
  },
  {
   "cell_type": "code",
   "execution_count": 1,
   "metadata": {
    "execution": {
     "iopub.execute_input": "2021-06-25T17:11:43.653389Z",
     "iopub.status.busy": "2021-06-25T17:11:43.653016Z",
     "iopub.status.idle": "2021-06-25T17:11:43.659763Z",
     "shell.execute_reply": "2021-06-25T17:11:43.659119Z",
     "shell.execute_reply.started": "2021-06-25T17:11:43.653358Z"
    },
    "trusted": true
   },
   "outputs": [
    {
     "name": "stdout",
     "output_type": "stream",
     "text": [
      "Hello World!\n",
      "Hello New World!\n",
      "The function prints an input string.\n",
      "    Input:\n",
      "        s: a string\n",
      "    Output:\n",
      "        n/a\n",
      "    \n",
      "Hello World!\n",
      "None\n"
     ]
    }
   ],
   "source": [
    "def print_hello_world():\n",
    "    '''The function prints Hello World! string.'''\n",
    "\n",
    "    print(\"Hello World!\")\n",
    "\n",
    "def print_string(s):\n",
    "    \"\"\"The function prints an input string.\n",
    "    Input:\n",
    "        s: a string\n",
    "    Output:\n",
    "        n/a\n",
    "    \"\"\"\n",
    "\n",
    "    print(s)\n",
    "    \n",
    "print_hello_world()\n",
    "print_string('Hello New World!')\n",
    "print(print_string.__doc__)\n",
    "\n",
    "# Test function return value when return value is not provided\n",
    "\n",
    "print(print_hello_world())     # Return is None of NoneType"
   ]
  },
  {
   "cell_type": "markdown",
   "metadata": {},
   "source": [
    "The above sample code defines two functions: *print_hello_world()* and *print_string()*. To define a function, the code shall start with a keyword *def*, followed by the name of the function provided by the programmer. \n",
    "\n",
    "A function also may or may not have a list of input arguments. In the first function, since the purpose of the function is always to print \"Hello World!\", no additional input is needed. The use of a pair of empty parentheses indicates that the function has no input argument.\n",
    "\n",
    "In the second example, *print_string()* codes a print function, but its function code does not specify what is the message to be printed. Instead, the function uses the input argument *s*. When the function is called, the function call must specify the input argument value. This value then will be assigned to variable *s*.\n",
    "\n",
    "There is one more common component in both *print_hello_world()* and *print_string()*, that is the inclusion of a comment section right next to the definition of function name and its input arguments, namely, right after the colon mark. The comment section is required to use the triple quotation marks, and they can be either single or double quotation marks. There is a name for the comment created as such, called *docstring*. \n",
    "\n",
    "Different from other types of code comments, the use of docstrings is strongly recommended. Developers can use docstrings to document the main design goal and logic of the function and a list of input/output arguments. Docstrings help third-party users to better interface with the functions without going through the detailed coding implementation.\n",
    "\n",
    "The content of docstrings will be also assigned as a built-in attribute of the functions or methods that include docstrings, called *.__doc__*. In the above example, the function's docstring can be printed out by: *print(print_string.__doc__)*\n",
    "\n",
    "To emphasize its generality, built-in Python functions and methods also include docstrings extensively. For example, below let us review the docstring of Python's own *print()* function:"
   ]
  },
  {
   "cell_type": "code",
   "execution_count": null,
   "metadata": {
    "execution": {
     "iopub.execute_input": "2021-06-25T17:09:25.217804Z",
     "iopub.status.busy": "2021-06-25T17:09:25.217461Z",
     "iopub.status.idle": "2021-06-25T17:09:25.221886Z",
     "shell.execute_reply": "2021-06-25T17:09:25.221225Z",
     "shell.execute_reply.started": "2021-06-25T17:09:25.217771Z"
    },
    "trusted": true
   },
   "outputs": [],
   "source": [
    "print(print.__doc__)"
   ]
  },
  {
   "cell_type": "markdown",
   "metadata": {},
   "source": [
    "# Function Arguments\n",
    "\n",
    "In the previous example, we have seen a user-defined function may include a list of arguments. Let us consider the two distinct cases when the function arguments may be of mutable type or of immutable type."
   ]
  },
  {
   "cell_type": "code",
   "execution_count": null,
   "metadata": {
    "execution": {
     "iopub.execute_input": "2021-06-25T15:37:45.378539Z",
     "iopub.status.busy": "2021-06-25T15:37:45.378153Z",
     "iopub.status.idle": "2021-06-25T15:37:45.385628Z",
     "shell.execute_reply": "2021-06-25T15:37:45.384847Z",
     "shell.execute_reply.started": "2021-06-25T15:37:45.378495Z"
    },
    "trusted": true
   },
   "outputs": [],
   "source": [
    "# Sample code to use mutable and immutable function arguments\n",
    "def func_test(L = ['a', 'b'], S = 'ab'):\n",
    "    L.append('c')\n",
    "    S = S + 'c'\n",
    "    return L, S\n",
    "\n",
    "# Without return, mutable argument changes affect outside\n",
    "# But immutable argument changes do not\n",
    "L = ['a', 'b']; S = 'ab'\n",
    "func_test(L, S) \n",
    "print('{0}, {1}'.format(L,S))\n",
    "\n",
    "# When argument values are not assigned, default value\n",
    "# must be defined\n",
    "L, S = func_test() \n",
    "print('{0}, {1}'.format(L,S))\n",
    "\n",
    "# Default value of a mutable argument only used ONCE\n",
    "L, S = func_test()\n",
    "print('{0}, {1}'.format(L,S))"
   ]
  },
  {
   "cell_type": "markdown",
   "metadata": {},
   "source": [
    "Let us unpack the above three lines of result returns when the same functions are called three times.\n",
    "\n",
    "1. When a function includes a list of arguments, it is allowed that the code also declare a default value when no value is provided when the function is called in the code. The first line of printed results indicates this case, when *L, S = func_test()* does not provide the argument values, and the default values of *L = ['a', 'b']* and *S = 'ab'* are used. \n",
    "2. It may come as a surprise that while the same function is called the second time in the same fashion, the returned values of *L* and *S* are different from the first time. This is because an important rule defined in Python regarding the type of an input argument to be mutable or immutable:\n",
    "    * When an argument type is immutable, then its default value will be reset to the one listed in the function definition. In the above example, *S = 'ab'* is immutable string type. Therefore, when its input value is not provided by the function call, the default value is always used.\n",
    "    * When an argument type is mutable, then its default value will be set only once based on the value in the function definition. Subsequently, the default value of a mutable argument remains the same from the last time the function is called. In the above example, when the function is first called, the mutable argument *L* has changed its value to ['a', 'b', 'c']. Therefore, when the function is called the second time without explicit setting the argument value, the default value of *L* is the same value from the last function call. Adding another 'c' to this value will return the result ['a', 'b', 'c', 'c'].\n",
    "   * The third line of printed result illustrates the situation that when a mutable argument is changed inside a function, the modified value is carried over to the outside of the function regardless if the value is part of the function output. However, when an immutable argument is modified inside a function, it is not carried over to change the variable value outside the function. This conclusion makes sense because when the function executes the statement *S = S + 'c'*, the assigned new string *S* is a local string object that has different memory address and ID than the string *S* of the same name outside the function. \n",
    "   \n",
    "   \n",
    "In conclusion, when arguments are passed into a function, mutable variables share the same objects inside and outside the function, while immutable variables do not share the same objects. As a result, changes on immutable variables inside a function do not change the variables of the same names outside. Such immutable variables inside a function are called local variables.\n",
    "\n",
    "Contrast to local variables, Python also defines a keyword called *global* to define global variables. When a variable is declared as global, then Python will force all variables of the same name to share the same object and memory address. Consequently, changing the value of a global variable in one place will affect all the other places in the code when the same variable is used. Let us see the example below."
   ]
  },
  {
   "cell_type": "code",
   "execution_count": null,
   "metadata": {
    "execution": {
     "iopub.execute_input": "2021-06-25T20:06:30.826638Z",
     "iopub.status.busy": "2021-06-25T20:06:30.826017Z",
     "iopub.status.idle": "2021-06-25T20:06:30.837867Z",
     "shell.execute_reply": "2021-06-25T20:06:30.836546Z",
     "shell.execute_reply.started": "2021-06-25T20:06:30.826589Z"
    },
    "trusted": true
   },
   "outputs": [],
   "source": [
    "S = 'ab'\n",
    "\n",
    "def func_test_global(L = ['a', 'b']):\n",
    "    global S\n",
    "    \n",
    "    L.append('c')\n",
    "    S = S + 'c'\n",
    "    return L, S\n",
    "\n",
    "L, S = func_test_global() \n",
    "print('{0}, {1}'.format(L,S))\n",
    "print('id(S): ',id(S))\n",
    "\n",
    "L, S = func_test_global()\n",
    "print('{0}, {1}'.format(L,S))\n",
    "print('id(S): ',id(S))\n",
    "\n",
    "func_test_global(L)\n",
    "print('{0}, {1}'.format(L,S))\n",
    "print('id(S): ',id(S))"
   ]
  },
  {
   "cell_type": "markdown",
   "metadata": {},
   "source": [
    "In the above example, we change the definition of the function to *func_test_global()* for variable *S* to be declared as global. When we now see the returned results, the value of the immutable variable *S* is carried over between outside and inside the function, as if the string type is a mutable variable type."
   ]
  },
  {
   "cell_type": "markdown",
   "metadata": {},
   "source": [
    "# Define an insert sort function\n",
    "\n",
    "Previously, we have seen the use of several built-in sorting functions. Let us see a few examples below:"
   ]
  },
  {
   "cell_type": "code",
   "execution_count": null,
   "metadata": {
    "execution": {
     "iopub.execute_input": "2021-06-25T16:09:29.487926Z",
     "iopub.status.busy": "2021-06-25T16:09:29.48762Z",
     "iopub.status.idle": "2021-06-25T16:09:29.494786Z",
     "shell.execute_reply": "2021-06-25T16:09:29.493856Z",
     "shell.execute_reply.started": "2021-06-25T16:09:29.487899Z"
    },
    "trusted": true
   },
   "outputs": [],
   "source": [
    "List = [7, 4, 3, 8, 5, 6, 1, 9, 2, 0]\n",
    "List.sort()\n",
    "print(List)\n",
    "List.sort(reverse=True)\n",
    "print(List)\n",
    "\n",
    "String = \"cdeab\"\n",
    "sorted_result = sorted(String)\n",
    "print(sorted_result)\n",
    "new_String = ''.join(sorted_result)\n",
    "print(new_String)"
   ]
  },
  {
   "cell_type": "markdown",
   "metadata": {},
   "source": [
    "Next, we design a sorting function called *insert sort*:"
   ]
  },
  {
   "cell_type": "code",
   "execution_count": 1,
   "metadata": {
    "execution": {
     "iopub.execute_input": "2024-03-03T04:13:15.159516Z",
     "iopub.status.busy": "2024-03-03T04:13:15.158949Z",
     "iopub.status.idle": "2024-03-03T04:13:29.069685Z",
     "shell.execute_reply": "2024-03-03T04:13:29.068514Z",
     "shell.execute_reply.started": "2024-03-03T04:13:15.159479Z"
    },
    "trusted": true
   },
   "outputs": [
    {
     "name": "stdout",
     "output_type": "stream",
     "text": [
      "*** Insert Sort ***\n",
      "Elapsed Time:  13.869377613067627\n",
      "[0, 1, 2, 3, 4, 5, 6, 7, 8, 9, 10, 11, 12, 13, 14, 15, 16, 17, 18, 19]\n",
      "*** Python Sort ***\n",
      "Elapsed Time:  0.0016734600067138672\n",
      "[0, 1, 2, 3, 4, 5, 6, 7, 8, 9, 10, 11, 12, 13, 14, 15, 16, 17, 18, 19]\n"
     ]
    }
   ],
   "source": [
    "import random\n",
    "import time\n",
    "\n",
    "def insert_sort(input_list):\n",
    "    ''' A custom function to sort number sequences using insert sort\n",
    "    Parameters:\n",
    "    Input:  input_list  - Expecting a list of numerical numbers\n",
    "\n",
    "    Output: input_list  - sorted list\n",
    "    '''\n",
    "    if type(input_list)!=list:\n",
    "        input_list = list(input_list)\n",
    "\n",
    "    for index in range(1, len(input_list)):\n",
    "\n",
    "        # Compare and sort elements one by one\n",
    "        current = input_list[index]\n",
    "\n",
    "        # Verify the type of each element\n",
    "        if type(current)!=int and type(current)!=float:\n",
    "            current = float(current)\n",
    "\n",
    "        # Insert to previous sorted sub-list\n",
    "        while  index>0 and input_list[index-1]>current:\n",
    "            # Insert iteratively until insert condition is False\n",
    "            input_list[index] = input_list[index-1]\n",
    "            input_list[index-1] = current\n",
    "            index -=1\n",
    "    \n",
    "    return input_list\n",
    "\n",
    "# Generate a sufficiently long list for sorting\n",
    "sample_count = 10000\n",
    "random_input = random.sample(range(0, sample_count),sample_count)\n",
    "\n",
    "# ******** Method 1: Insert Sort ********\n",
    "print('*** Insert Sort ***')\n",
    "result = random_input.copy()\n",
    "begin_time = time.time()\n",
    "insert_sort(result)\n",
    "\n",
    "# tic-toc\n",
    "elapsed_time = time.time() - begin_time\n",
    "print('Elapsed Time: ', elapsed_time)\n",
    "print(result[0:20])\n",
    "\n",
    "# ******** Method 2: Built-in Timsort ******\n",
    "print('*** Python Sort ***')\n",
    "result = random_input.copy()\n",
    "begin_time = time.time()\n",
    "result.sort()\n",
    "\n",
    "# tic-toc\n",
    "elapsed_time = time.time() - begin_time\n",
    "print('Elapsed Time: ', elapsed_time)\n",
    "print(result[0:20])"
   ]
  },
  {
   "cell_type": "markdown",
   "metadata": {},
   "source": [
    "Please refer to the lecture video for the important discussion about the difference in the time complexity between a user-defined insert sort and the built-in Python sort function."
   ]
  },
  {
   "cell_type": "markdown",
   "metadata": {},
   "source": [
    "# Summary\n",
    "\n",
    "* A custom-defined function can be declared by the keyword: def, followed by the function name, a list or input arguments within a pair of parentheses, and then a colon that indicates the function code block that follows.\n",
    "* Input arguments may be mutable or immutable type. A mutable input argument shares the same memory address and value as the corresponding variable outside the function, while an immutable input argument merely creates a copy of the corresponding variable outside the function. As a result, any changes to a mutable input argument will change the variable outside the function, but changes to an immutable input argument will only affect itself inside the function.\n",
    "* Variables inside a function can be passed to the outside by the command: return.\n",
    "* Another way to pass variable with the same name and value to inside a function is by declaring a global variable. A global variable only has one instance both inside and outside the function.\n",
    "* A custom-defined function can be imported from a .py file by the command: import."
   ]
  },
  {
   "cell_type": "markdown",
   "metadata": {},
   "source": [
    "# Exercises"
   ]
  },
  {
   "cell_type": "markdown",
   "metadata": {},
   "source": [
    "## Exercise 1\n",
    "Please code a function *calculation(arg_1, arg_2)*, which takes in two arguments and calculate the multiplication result and float division result of them and then returns a list-type value of both results."
   ]
  },
  {
   "cell_type": "code",
   "execution_count": null,
   "metadata": {},
   "outputs": [],
   "source": [
    "def calculation(arg_1, arg_2):\n",
    "    return list(arg_1 * arg_2, arg_1 // arg_2)"
   ]
  },
  {
   "cell_type": "markdown",
   "metadata": {},
   "source": [
    "## Exercise 2\n",
    "Please code an *AND()* boolean function, which will take in two input boolean arguments, and output its logic *and* result. Please correctly include the function docstring and argument type checking to verify the input variables are boolean type."
   ]
  },
  {
   "cell_type": "code",
   "execution_count": null,
   "metadata": {},
   "outputs": [
    {
     "name": "stdout",
     "output_type": "stream",
     "text": [
      "returns true if both inputs are true, false if they aren't or they aren't booleans\n"
     ]
    }
   ],
   "source": [
    "def AND(one, two):\n",
    "    \"returns true if both inputs are true, false if they aren't or they aren't booleans\"\n",
    "    if type(one) == bool and type(two) == bool:\n",
    "        return one and two\n",
    "    return False\n",
    "print(AND.__doc__)"
   ]
  },
  {
   "cell_type": "markdown",
   "metadata": {},
   "source": [
    "## Exercise 3\n",
    "Please code a function called shorten_string(). The function takes in one string-type argument, and then will remove its first character and last character and return the result. If the input string is shorter than length-2, then the function shall return an empty string. If the input argument is not a string type, the function shall also return an empty string. Hint: Please remember to check the variable type of the input argument."
   ]
  },
  {
   "cell_type": "code",
   "execution_count": 8,
   "metadata": {},
   "outputs": [
    {
     "name": "stdout",
     "output_type": "stream",
     "text": [
      "ell\n"
     ]
    }
   ],
   "source": [
    "def shorten_string(string):\n",
    "    if type(string) == str:\n",
    "        if len(string) < 2:\n",
    "            return \"\"\n",
    "        else:\n",
    "            return string[1:len(string) - 1]\n",
    "print(shorten_string(\"hello\"))"
   ]
  },
  {
   "cell_type": "markdown",
   "metadata": {},
   "source": [
    "## Exercise 4\n",
    "In the lecture, an insert sort algorithm with default ascending order is discussed. Please modify the code that allows the function to sort a list in either ascending order or descending order, by setting a second argument *reverse* to be True or False."
   ]
  },
  {
   "cell_type": "code",
   "execution_count": 15,
   "metadata": {},
   "outputs": [
    {
     "name": "stdout",
     "output_type": "stream",
     "text": [
      "[377, 3415, 2129, 9044, 6405, 2061, 9091, 6447, 9738, 9025, 9692, 2871, 5899, 7247, 7757, 2055, 6502, 8660, 4405, 4203, 3418, 4087, 7190, 9667, 6810, 8390, 7069, 1537, 9010, 4833, 8265, 3765, 5066, 7633, 9934, 3447, 6721, 4758, 6392, 1302, 6158, 1015, 5757, 4775, 9450, 1483, 9251, 2122, 3703, 3965, 6277, 1186, 7581, 4333, 5938, 495, 2839, 3816, 9417, 2547, 6854, 6994, 7543, 5555, 2211, 815, 7756, 1635, 7048, 5360, 5394, 4537, 7742, 2093, 8666, 7120, 7499, 4441, 4282, 3560, 8481, 6395, 3421, 2861, 2990, 8195, 9301, 3905, 2717, 4398, 5613, 1190, 7831, 6051, 9817, 1920, 4326, 1572, 5161, 1601, 4003, 9878, 4462, 5625, 8973, 1696, 2686, 167, 3732, 4977, 989, 1857, 196, 5264, 2736, 202, 3207, 8011, 5106, 8144, 6008, 900, 1291, 4214, 9162, 17, 8017, 3480, 1755, 9586, 5242, 9013, 9325, 833, 4196, 1594, 3985, 1906, 1118, 5610, 7182, 5985, 9652, 6945, 3626, 4106, 9551, 9466, 489, 7280, 2841, 8547, 9888, 5928, 5307, 4228, 403, 3771, 278, 4801, 7039, 5808, 9623, 8104, 3085, 6972, 8980, 2572, 1980, 5796, 431, 355, 8767, 8573, 7113, 6546, 3082, 4381, 7748, 3417, 4217, 2753, 2489, 7272, 4033, 8691, 9139, 6996, 2199, 8466, 5087, 6210, 5590, 5053, 4229, 7507, 8286, 8805, 940, 6726, 9642, 5224, 5747, 9363, 3044, 9892, 7514, 8578, 4697, 2704, 736, 9079, 4417, 7243, 4025, 1116, 2422, 2056, 2469, 9239, 769, 4406, 9651, 9700, 4435, 3378, 373, 7090, 5268, 7586, 6713, 178, 6142, 7386, 2067, 8916, 1053, 8285, 9820, 3097, 6168, 8166, 2497, 9924, 6844, 1389, 3526, 3646, 3649, 8238, 5103, 6043, 3722, 2414, 3869, 6989, 7570, 2074, 7848, 9605, 4070, 3843, 1063, 44, 5443, 2868, 342, 649, 249, 5189, 207, 2956, 3516, 302, 3182, 79, 8501, 3950, 6181, 3479, 2755, 9524, 9678, 2518, 9723, 1171, 1218, 4934, 3581, 2392, 7128, 6653, 3859, 7477, 7194, 7778, 40, 6325, 5554, 1852, 792, 8700, 3166, 7801, 5128, 8035, 1918, 5171, 1345, 3072, 8317, 429, 5544, 1480, 7068, 8020, 3934, 8567, 2347, 1938, 1024, 7431, 3832, 2368, 6799, 5447, 3275, 5739, 2726, 2503, 3111, 1279, 2118, 9507, 830, 6399, 6603, 7461, 7010, 2094, 2273, 127, 7463, 9411, 3270, 4802, 6011, 1806, 2413, 7610, 7276, 8979, 4772, 8139, 9380, 558, 2860, 407, 8306, 119, 2170, 9377, 6235, 1404, 3787, 3367, 2458, 3887, 695, 5048, 9713, 9489, 4727, 740, 5971, 3226, 771, 9545, 2210, 3672, 7694, 6371, 3964, 8155, 7804, 809, 2864, 2654, 1445, 7475, 5007, 9549, 2452, 8358, 8810, 4236, 91, 7835, 3726, 7734, 8679, 9495, 6847, 3349, 9482, 788, 7805, 7826, 5795, 1310, 2593, 5112, 7219, 3434, 2822, 8328, 1075, 9262, 2632, 8280, 2592, 1191, 974, 3476, 6918, 5772, 6743, 2097, 3167, 8129, 605, 2769, 5615, 5083, 4526, 5620, 7701, 3845, 7602, 2380, 1934, 6474, 8236, 2793, 5211, 9415, 2206, 7774, 3759, 8934, 9379, 5100, 5820, 6976, 690, 8395, 9464, 8413, 6519, 9259, 1092, 7999, 6910, 7458, 3984, 6547, 1463, 5951, 7955, 3453, 6213, 6105, 195, 9791, 6101, 8318, 9381, 7695, 5534, 2231, 4821, 692, 3143, 4521, 5475, 2534, 7738, 9338, 2485, 6314, 5607, 6066, 5786, 3437, 4318, 5628, 414, 9912, 3388, 8074, 5866, 6266, 4332, 4817, 9838, 158, 3944, 8225, 7385, 5522, 4030, 3573, 1037, 5650, 7635, 8712, 9046, 3622, 1001, 6284, 1904, 5338, 6614, 8840, 4558, 8610, 2000, 4619, 2072, 5556, 358, 4718, 6545, 4432, 1774, 9761, 4044, 1245, 5902, 7153, 6890, 4921, 7483, 2640, 2898, 9735, 5355, 4896, 2988, 1436, 1960, 1074, 2404, 7765, 2900, 5499, 9822, 2069, 2256, 8251, 9442, 8584, 9829, 337, 5042, 1533, 8908, 208, 5967, 2813, 5631, 7302, 7679, 9261, 1172, 956, 9045, 1908, 6595, 8379, 3824, 1031, 6124, 846, 5683, 7924, 2613, 4302, 2977, 8105, 3282, 4806, 8909, 4144, 6238, 9979, 5511, 1521, 8321, 3908, 1752, 5288, 5218, 6861, 2114, 5932, 8929, 2033, 8701, 2381, 6413, 8023, 8192, 5746, 2280, 265, 7854, 4014, 9727, 7548, 4893, 9272, 1617, 2015, 8410, 6328, 413, 2409, 2773, 3273, 3031, 7109, 5018, 3680, 3431, 1657, 3924, 7535, 2113, 2971, 6758, 3236, 6205, 9118, 9308, 9371, 3262, 2740, 9185, 7861, 6943, 4113, 5528, 8090, 9353, 2752, 9809, 6022, 9061, 593, 8958, 5331, 6762, 6543, 2144, 7640, 3916, 3271, 7119, 8015, 6561, 1455, 7950, 4134, 9041, 4683, 2185, 7410, 2594, 7615, 5690, 4142, 1038, 7866, 9373, 7524, 4119, 4177, 971, 9631, 8530, 6824, 8303, 8430, 1982, 6436, 5728, 7311, 813, 7459, 6341, 4513, 9706, 2297, 7907, 8044, 6139, 5666, 9849, 2916, 7259, 8922, 532, 9264, 6363, 717, 683, 215, 9897, 9725, 4420, 7662, 299, 610, 3312, 6317, 9248, 7088, 4883, 3119, 227, 2132, 4974, 7198, 5997, 3, 554, 9916, 3469, 1017, 3724, 9899, 7836, 9535, 2438, 1205, 2554, 4262, 8647, 1643, 6685, 1101, 6286, 4958, 1224, 8668, 6811, 8594, 7058, 1757, 7067, 8294, 5834, 980, 6942, 5623, 5012, 505, 6921, 5455, 8855, 4411, 1434, 5146, 9640, 6232, 1380, 5989, 8341, 8937, 3259, 9720, 2759, 4632, 1278, 1416, 6129, 6843, 8377, 9016, 544, 4325, 826, 468, 2386, 1300, 3140, 6734, 8820, 8839, 9173, 7919, 7674, 3377, 3498, 3472, 4694, 2101, 3109, 4261, 4777, 8224, 4782, 1897, 8048, 5669, 1472, 6453, 5228, 7940, 1889, 4930, 9506, 3217, 6995, 8490, 4067, 8538, 860, 2394, 185, 9827, 7200, 1569, 910, 6952, 3359, 7362, 8965, 4834, 9014, 6697, 7164, 734, 5478, 8808, 2100, 1126, 7400, 862, 7155, 9481, 9785, 7892, 5790, 7937, 1337, 6491, 4157, 5995, 8408, 7691, 2792, 4131, 1423, 9813, 7711, 6635, 6237, 9931, 8539, 6665, 8817, 810, 2527, 9821, 6196, 6632, 9928, 1997, 9941, 9510, 4170, 3801, 2234, 2696, 2795, 191, 7798, 7522, 69, 8615, 7909, 2216, 3432, 7370, 9456, 3223, 710, 6200, 1513, 1842, 4042, 9786, 7537, 9600, 9581, 3960, 2877, 5043, 4987, 3553, 4895, 5579, 1588, 319, 5815, 3690, 5138, 1828, 9211, 9662, 8698, 8401, 8686, 2872, 2536, 3720, 2006, 6481, 7736, 5482, 5390, 499, 6289, 9367, 4383, 5749, 2202, 893, 3876, 1409, 3909, 1792, 612, 1895, 3332, 8770, 8103, 3742, 9243, 1532, 1959, 3220, 1914, 7960, 8168, 2399, 4887, 1275, 2559, 2919, 6580, 849, 3269, 9322, 3710, 1168, 1878, 8025, 5509, 1164, 9364, 9362, 9580, 7503, 7948, 1688, 5946, 4714, 3653, 1749, 8177, 8760, 1018, 6351, 2255, 9681, 3037, 8108, 3327, 5119, 9116, 6714, 5705, 9547, 1687, 6431, 6936, 4546, 5155, 1808, 7292, 3952, 4925, 1551, 5169, 9908, 4532, 6072, 2173, 3157, 1566, 7097, 5045, 9906, 8605, 6715, 5774, 2922, 2962, 2112, 9454, 925, 5660, 4624, 7331, 1839, 2119, 2390, 5435, 6512, 1181, 3517, 5717, 3719, 9210, 5075, 2428, 9145, 5706, 456, 1403, 8982, 38, 4342, 7033, 9060, 1868, 2879, 9115, 7557, 5105, 7761, 6934, 3850, 8863, 5383, 704, 7565, 4312, 6227, 6414, 336, 9669, 6751, 321, 6140, 5656, 6789, 5604, 8947, 6848, 919, 8211, 8633, 8671, 759, 1307, 3858, 89, 6324, 6036, 7207, 3733, 7723, 7411, 8486, 5186, 2540, 5385, 8492, 8961, 2013, 9886, 782, 8257, 8819, 1556, 1108, 276, 4585, 3118, 9850, 4274, 464, 7579, 1775, 8874, 4667, 5257, 2911, 5261, 8866, 8069, 7262, 9190, 9773, 6199, 1047, 4713, 3865, 7957, 2339, 6319, 6703, 2034, 8815, 5255, 494, 486, 6661, 3696, 5653, 8517, 4308, 2242, 8845, 761, 1303, 1933, 5065, 7288, 8904, 4372, 3826, 1424, 5658, 6360, 5157, 4409, 2680, 2459, 3497, 4111, 9282, 4362, 6756, 458, 8199, 4709, 9216, 9163, 6218, 8447, 47, 7415, 6784, 2980, 312, 7175, 3255, 59, 3227, 9842, 9250, 2589, 4472, 2710, 4759, 8872, 6553, 6435, 4494, 6221, 2969, 6148, 7107, 2785, 5304, 9409, 314, 1824, 1804, 8298, 7065, 7541, 2831, 5611, 8404, 1013, 2506, 2125, 5172, 7519, 6044, 627, 9981, 9973, 444, 5629, 1438, 2058, 6887, 3477, 271, 942, 1991, 9238, 7275, 4660, 4107, 1722, 186, 599, 6422, 5251, 9407, 4514, 31, 1915, 2360, 3988, 7877, 8655, 6999, 1578, 7402, 2225, 8747, 2890, 8778, 9571, 4800, 6510, 3291, 998, 4511, 1662, 8555, 8771, 9123, 3375, 3445, 5819, 8921, 6240, 9393, 879, 1212, 1527, 5096, 2145, 2751, 5039, 8374, 5696, 3489, 2693, 6398, 514, 8167, 9686, 9762, 8999, 5088, 357, 1211, 9192, 8672, 3492, 5175, 6119, 6014, 8128, 8619, 3473, 2733, 2420, 7489, 363, 8424, 2764, 6416, 479, 3127, 9830, 1833, 3225, 1694, 7502, 9236, 8218, 1202, 3576, 6095, 1372, 805, 5497, 5974, 4868, 6829, 4970, 1686, 6536, 2192, 6402, 6914, 720, 8186, 7746, 7649, 1253, 3317, 3820, 3413, 9796, 6312, 8441, 2053, 7246, 8437, 3087, 9930, 5069, 1576, 5162, 9275, 7787, 3918, 1725, 6623, 853, 4980, 3300, 9978, 8024, 5133, 8649, 1085, 117, 8789, 5854, 5336, 7593, 1870, 6280, 1497, 4399, 1811, 7697, 1263, 4139, 4564, 4580, 4641, 1479, 3682, 803, 9316, 452, 4021, 4636, 3992, 6206, 7293, 3232, 2418, 5599, 641, 8575, 2560, 3075, 1935, 1951, 5745, 7322, 6109, 7408, 2011, 9129, 3897, 1913, 3903, 3948, 6177, 3410, 4961, 3548, 797, 6225, 9716, 7081, 5980, 5926, 7444, 4392, 1992, 101, 1651, 8743, 2128, 5512, 5350, 9566, 4479, 9110, 1848, 7371, 555, 6619, 7797, 5502, 324, 9082, 9184, 1541, 2651, 1924, 9799, 8857, 1610, 4808, 8862, 2085, 3009, 6406, 5056, 7728, 3811, 7809, 3515, 7549, 7085, 7566, 9113, 6613, 6983, 6880, 9142, 4433, 7383, 4161, 2981, 206, 2084, 1313, 4892, 6429, 2426, 5539, 6362, 5519, 5681, 3302, 8151, 2054, 5771, 3494, 8455, 9872, 6866, 1715, 1201, 6231, 8758, 8242, 1689, 9305, 6374, 9360, 3775, 7455, 60, 8746, 7716, 1584, 2722, 7122, 1678, 1629, 5250, 8592, 4748, 7176, 5910, 1000, 7255, 5773, 6028, 6969, 8175, 9083, 1008, 9824, 8717, 8646, 1296, 2747, 7260, 1026, 4466, 4807, 5642, 1683, 474, 4848, 4963, 4809, 1080, 228, 128, 4592, 7074, 820, 275, 5181, 3319, 7177, 7921, 9004, 9486, 5594, 3611, 2697, 5276, 7838, 4989, 6612, 8375, 4698, 2664, 528, 6549, 9462, 9273, 3873, 6516, 4948, 4722, 3493, 606, 9031, 5233, 9532, 7986, 8433, 5328, 8824, 293, 8733, 560, 2336, 2137, 7484, 7112, 801, 5108, 7334, 7269, 3482, 6120, 3812, 7766, 9625, 3541, 4266, 1089, 5168, 8440, 9539, 9430, 865, 9552, 3125, 5524, 6344, 7530, 6018, 2510, 1983, 9962, 7621, 8226, 5325, 5517, 4724, 3175, 6307, 2928, 4414, 6666, 8282, 9365, 7820, 1583, 7249, 124, 9257, 2509, 4, 1862, 360, 2910, 7841, 5562, 3034, 2973, 8067, 1675, 2271, 7427, 4814, 1402, 1057, 6369, 329, 1780, 4072, 3352, 2681, 2236, 8493, 2566, 159, 8813, 3777, 9318, 6054, 6631, 4133, 8425, 9096, 454, 7690, 7682, 4080, 800, 449, 5818, 3278, 5205, 659, 5923, 5016, 2062, 6048, 4515, 3429, 2585, 4596, 6420, 3707, 6020, 3970, 7612, 4073, 1325, 323, 7093, 6425, 9987, 2803, 7108, 7423, 6754, 6964, 4768, 4679, 3967, 2887, 2012, 4371, 8234, 194, 5874, 3725, 33, 662, 2541, 1836, 8887, 8975, 7730, 7393, 6016, 433, 1348, 984, 3936, 6563, 6856, 6385, 112, 3272, 8541, 2130, 9459, 9789, 6322, 2066, 9788, 3381, 2491, 1699, 1530, 7289, 8948, 3337, 1430, 8764, 7295, 9111, 471, 8749, 2328, 4819, 917, 3090, 5361, 9152, 6257, 8148, 6727, 3904, 5324, 4289, 3265, 349, 5794, 39, 9754, 6042, 4762, 7357, 5513, 7667, 3518, 1397, 3040, 1693, 5111, 4422, 7245, 2655, 3749, 2743, 226, 2212, 6487, 5462, 5180, 6141, 3704, 3422, 9134, 2019, 9890, 7609, 5707, 6852, 5270, 5377, 7827, 8505, 9889, 5783, 2445, 6097, 4837, 4543, 1066, 7325, 5973, 6941, 8397, 3848, 3667, 6050, 5797, 9006, 4349, 3196, 4213, 4101, 4297, 4180, 7912, 5676, 4234, 9814, 3796, 3025, 348, 4427, 2863, 9073, 8221, 1815, 3169, 1543, 7115, 8140, 4429, 1504, 5856, 5386, 2359, 929, 8628, 5670, 6187, 3424, 9330, 9258, 2298, 4363, 1529, 9998, 8526, 4172, 3402, 587, 1411, 7592, 2429, 646, 9304, 632, 4853, 4539, 4795, 8828, 6128, 480, 5803, 3874, 442, 3071, 5763, 1105, 6315, 3910, 678, 9003, 2482, 2997, 4597, 2109, 6882, 6478, 9591, 3083, 378, 4996, 4092, 2776, 8708, 1255, 3446, 1198, 5535, 6112, 463, 1622, 9319, 2528, 1428, 7663, 7086, 1376, 2331, 5312, 4269, 2708, 8373, 6922, 6110, 6746, 6292, 6853, 4661, 1856, 3519, 6123, 7235, 3467, 4447, 5449, 2584, 5368, 2701, 1748, 1267, 519, 9828, 9131, 3466, 3941, 5639, 7173, 6903, 8990, 1493, 9435, 5692, 5711, 7923, 9811, 9587, 5931, 1465, 4798, 6537, 5740, 7045, 7890, 2311, 3636, 1788, 5230, 4681, 7574, 3248, 8078, 5434, 5055, 5302, 4251, 4747, 7372, 3947, 6243, 6984, 5404, 1287, 4936, 5954, 2577, 9810, 6067, 131, 8856, 5500, 4951, 4966, 137, 4653, 7298, 763, 7332, 9214, 2484, 9346, 5319, 272, 2412, 6993, 3165, 7741, 1454, 4696, 5239, 5708, 5034, 4730, 3971, 8885, 6873, 7851, 7488, 3506, 939, 1949, 887, 8860, 4740, 1366, 1613, 4613, 7309, 715, 2602, 1598, 9995, 3655, 3982, 6814, 2352, 6878, 9919, 9140, 5775, 4822, 381, 6544, 3091, 7313, 3911, 7457, 7526, 1841, 3081, 6987, 3293, 947, 8427, 675, 8188, 6849, 6423, 255, 3488, 8888, 4503, 8405, 7619, 9887, 9676, 8924, 6769, 7897, 8338, 5503, 8834, 1344, 6805, 9671, 6293, 5314, 6267, 6774, 8217, 5080, 8037, 6981, 2514, 7031, 6057, 4116, 8309, 622, 3023, 1150, 4069, 935, 5767, 6978, 2913, 1044, 4729, 708, 9168, 5963, 5510, 5738, 7196, 6211, 5743, 7895, 5916, 9428, 7901, 3387, 1660, 2939, 460, 1442, 2239, 3067, 8235, 9217, 1277, 2525, 7434, 6629, 1027, 9201, 6001, 4493, 5981, 6191, 8910, 2965, 3474, 6490, 5396, 3999, 2032, 4038, 6680, 6795, 510, 221, 3121, 8353, 6821, 8082, 9752, 156, 9159, 9635, 6558, 6701, 4285, 2014, 509, 8339, 4911, 1723, 4573, 1781, 7087, 1471, 9030, 3925, 2938, 4829, 2477, 4881, 6419, 1708, 4530, 3601, 890, 7328, 3094, 7185, 4182, 8870, 608, 6947, 1779, 6644, 9556, 818, 4875, 7230, 6085, 525, 9863, 9315, 4084, 72, 6215, 1374, 8464, 619, 8330, 132, 8766, 6038, 133, 104, 1088, 6802, 5584, 2926, 5933, 2378, 462, 7007, 1916, 3590, 5263, 689, 7555, 6773, 4343, 415, 3222, 8848, 5459, 8723, 148, 5470, 3427, 4746, 7283, 9175, 7361, 149, 2604, 5092, 9130, 1030, 7339, 6761, 4826, 3637, 9784, 7930, 4496, 6470, 50, 7404, 3644, 2989, 9281, 7150, 5454, 6407, 3104, 1429, 9530, 3640, 1166, 8263, 6077, 2774, 6529, 8931, 7686, 5178, 3913, 1654, 2346, 5401, 8986, 2139, 7231, 4794, 4267, 3320, 5463, 4093, 6750, 1589, 6531, 5299, 6841, 3370, 6393, 1462, 9032, 3790, 4484, 5816, 4946, 6234, 8742, 9340, 4095, 3390, 7533, 5190, 4643, 516, 395, 1099, 4542, 4719, 4498, 7213, 3699, 9461, 8482, 6150, 2637, 6176, 8400, 114, 4430, 73, 54, 2605, 4260, 2468, 9867, 3050, 2641, 3906, 3767, 400, 1014, 4843, 596, 6052, 3857, 3153, 3955, 1761, 1239, 783, 4248, 8853, 7583, 819, 2335, 2820, 7620, 9660, 146, 3355, 1142, 3794, 2974, 7428, 4849, 7365, 9753, 9801, 9097, 8361, 5924, 3613, 8051, 9731, 7012, 8202, 2838, 1743, 9180, 1623, 4097, 9885, 1766, 5664, 2050, 6779, 9204, 2724, 687, 2749, 1676, 3817, 3676, 1816, 7358, 6479, 7825, 793, 8387, 1117, 5473, 1109, 1789, 6032, 6306, 9165, 508, 316, 7035, 498, 3240, 9425, 4752, 6515, 5382, 8914, 7758, 6828, 6615, 7053, 9043, 1796, 8673, 439, 1336, 8378, 4813, 2933, 2519, 888, 1941, 5430, 2624, 9170, 9469, 4488, 8825, 6167, 6569, 1677, 2569, 6357, 83, 5992, 5936, 7472, 7342, 8451, 7745, 9501, 8804, 6678, 8790, 4076, 504, 233, 1176, 2134, 1998, 3022, 4136, 6274, 2636, 6968, 905, 1426, 7980, 3872, 5608, 6499, 4120, 5900, 6444, 3555, 1735, 8868, 9254, 6990, 6372, 4162, 7987, 2124, 1433, 1020, 3582, 7381, 1548, 7094, 6956, 9246, 3051, 9733, 2903, 4506, 3353, 7705, 1575, 5732, 6675, 2876, 4882, 5453, 5990, 4885, 8138, 702, 8787, 8570, 4861, 4418, 7008, 5494, 9870, 825, 5959, 6831, 7474, 1003, 722, 3137, 8150, 7006, 8137, 3691, 1447, 3130, 6246, 4771, 9350, 5488, 7859, 7399, 5682, 6647, 4561, 8384, 2707, 2322, 2732, 7338, 5648, 5531, 9926, 7871, 7708, 5956, 248, 7818, 9324, 1309, 7184, 2899, 3614, 7750, 5540, 9976, 78, 8489, 4436, 6683, 5352, 4456, 1947, 9504, 5466, 4146, 3386, 7939, 2295, 2301, 9237, 772, 7791, 2968, 5870, 4888, 545, 4283, 1035, 4991, 2957, 3246, 4454, 3406, 2457, 7186, 391, 5395, 2070, 2998, 7501, 436, 8869, 3567, 639, 9136, 7749, 4173, 1759, 5810, 2650, 9921, 4757, 7626, 6391, 5340, 2611, 3779, 802, 1217, 5619, 583, 5553, 6863, 5113, 6006, 4910, 7167, 6428, 9410, 2204, 2035, 1223, 5958, 9181, 5406, 8713, 3061, 6596, 8399, 3435, 4273, 6270, 5026, 3839, 5384, 263, 2004, 320, 6186, 1119, 8669, 4913, 1523, 541, 9940, 6060, 7935, 2490, 7665, 3678, 1252, 4715, 973, 4009, 1812, 3197, 894, 4927, 1648, 2073, 3234, 643, 4152, 1626, 1665, 8436, 2902, 6642, 3917, 9372, 7363, 6927, 629, 3674, 3681, 7858, 5630, 102, 4589, 4240, 3449, 7596, 7659, 8661, 3053, 9880, 411, 628, 2728, 6005, 2880, 2746, 864, 5335, 2209, 3393, 3303, 8873, 2059, 8893, 903, 6025, 7559, 5471, 8580, 4741, 4957, 5498, 7577, 3793, 3277, 5025, 2365, 9615, 3334, 238, 9925, 7105, 5833, 5934, 5697, 7990, 3290, 75, 3056, 4524, 4920, 6747, 6500, 7743, 523, 6090, 9997, 109, 7680, 8918, 5141, 553, 9278, 7052, 6716, 8100, 4929, 7775, 2181, 6503, 5841, 1981, 7233, 4944, 8641, 4307, 2442, 8158, 3907, 6792, 2951, 2060, 2116, 5391, 2765, 8368, 4347, 9231, 6197, 2213, 4995, 1258, 5413, 5093, 5170, 4830, 3163, 80, 8759, 1021, 6988, 5318, 2543, 4018, 5114, 9034, 2815, 8659, 7351, 3032, 3297, 7985, 6113, 8, 8508, 1909, 9797, 5937, 7114, 6542, 3856, 7567, 197, 517, 3005, 5009, 9235, 4765, 212, 6777, 6021, 8204, 9422, 9708, 2772, 6295, 6115, 2454, 8402, 4823, 3020, 6248, 32, 4048, 9823, 7424, 4276, 3382, 5825, 1618, 5231, 9594, 9718, 5678, 6330, 9561, 8041, 8631, 1415, 5367, 1467, 9465, 1194, 1033, 8637, 2338, 1606, 8877, 9094, 5275, 706, 2775, 3687, 8354, 4953, 4787, 5761, 7906, 5358, 650, 8693, 7201, 6230, 6620, 8065, 8626, 7464, 5240, 5182, 5824, 2638, 2745, 1269, 1770, 4017, 4622, 4553, 7587, 172, 845, 3566, 907, 7268, 3814, 5415, 5124, 3035, 6337, 566, 4717, 7166, 4138, 4670, 5064, 380, 9826, 301, 3578, 795, 9859, 3430, 8050, 7675, 6608, 6162, 6928, 8780, 8618, 2588, 9266, 334, 5444, 3886, 9932, 3825, 8634, 9690, 1477, 9741, 3543, 7212, 3610, 6602, 8532, 7840, 356, 8071, 4423, 2904, 4682, 753, 7505, 7049, 724, 4219, 8536, 2136, 3902, 96, 4712, 3212, 5636, 5961, 7996, 4603, 2288, 8721, 7476, 4769, 9471, 9439, 9149, 4796, 6157, 4864, 9035, 1004, 1772, 4926, 1953, 6920, 443, 6204, 2582, 9798, 8803, 7077, 6182, 1625, 4296, 5566, 2963, 6146, 2030, 4339, 7024, 1359, 6857, 2450, 4662, 9244, 8598, 7316, 9303, 8711, 3274, 9542, 3514, 6709, 922, 434, 4928, 4322, 5919, 9404, 8935, 6426, 6275, 4064, 1845, 4175, 3534, 5089, 6116, 6971, 3158, 7018, 972, 155, 2157, 3461, 6573, 6845, 1599, 5596, 5425, 491, 4191, 9468, 2966, 1509, 5793, 1340, 1058, 4824, 7527, 7078, 5804, 9643, 3629, 9873, 5272, 2257, 4797, 5689, 6086, 8409, 9522, 37, 1200, 4932, 7451, 5480, 8271, 5246, 8250, 5846, 4985, 1495, 8122, 9855, 8162, 4675, 3342, 2964, 2669, 6951, 8042, 6508, 5003, 2028, 6731, 6087, 1950, 1486, 1573, 5548, 2036, 4421, 3397, 4098, 6164, 701, 4634, 6287, 7139, 8239, 283, 3221, 1961, 247, 3495, 4288, 6804, 1835, 3671, 3318, 943, 7041, 3403, 7891, 8083, 7977, 9188, 1260, 3305, 3147, 7129, 2133, 8223, 4550, 2666, 6195, 7127, 1334, 4827, 6567, 751, 3652, 9056, 6826, 5939, 6868, 4705, 1147, 6959, 1873, 4954, 4028, 6253, 6924, 2312, 8977, 2812, 3409, 262, 7630, 598, 1679, 5645, 9923, 7843, 2003, 4045, 8581, 600, 9572, 1762, 4633, 6960, 1081, 7208, 2219, 6342, 991, 3993, 8786, 2829, 5550, 9666, 8268, 19, 5766, 9769, 7395, 3830, 9433, 4272, 1478, 9757, 8858, 4536, 8854, 2224, 5204, 2562, 1032, 8579, 6657, 4461, 7487, 4899, 4122, 9478, 9977, 2207, 6539, 3451, 2147, 1867, 5086, 5483, 7698, 1270, 2303, 5342, 8644, 2610, 3490, 812, 2148, 8548, 4607, 2480, 1546, 9954, 6822, 6867, 5677, 9355, 5998, 2576, 4303, 8092, 5398, 6498, 8707, 2090, 4453, 9419, 7123, 9292, 549, 5177, 218, 630, 5876, 420, 2741, 4334, 7252, 6174, 3438, 5273, 3185, 6559, 5389, 8838, 8131, 7021, 4019, 9431, 0, 3391, 2763, 4605, 7632, 4688, 6733, 7899, 1695, 3376, 8136, 7864, 5694, 8521, 8903, 2991, 4127, 3230, 9352, 5940, 4811, 6511, 6034, 1750, 851, 7946, 9499, 367, 3294, 1408, 7439, 7904, 5907, 6477, 8788, 9228, 5987, 9103, 1800, 1760, 8072, 7076, 8799, 1466, 8989, 6975, 4967, 9398, 2975, 9221, 2918, 4609, 242, 6842, 1927, 9956, 2486, 1814, 3956, 2552, 447, 7126, 7720, 8237, 359, 4128, 8942, 9724, 884, 9683, 371, 968, 2619, 4439, 8791, 9658, 6607, 9321, 7241, 936, 3528, 4212, 7627, 5600, 7286, 8445, 1645, 7384, 7684, 2044, 6646, 4448, 2684, 6397, 2948, 1246, 3791, 9584, 1973, 8690, 6757, 4654, 5199, 1316, 970, 258, 1884, 6251, 9543, 5465, 3798, 2253, 9337, 340, 1165, 601, 9494, 9370, 4956, 7032, 2878, 7525, 1535, 6606, 4900, 4270, 2292, 3508, 961, 2888, 3523, 4990, 2608, 8264, 140, 4854, 2568, 8879, 9563, 7391, 4149, 2082, 3803, 904, 3133, 134, 2406, 7862, 8831, 4027, 1995, 1251, 3603, 5598, 4190, 1585, 6700, 2026, 9012, 9389, 676, 770, 9670, 3107, 9682, 4973, 4357, 9790, 9146, 6471, 3761, 9626, 5941, 6953, 2358, 5245, 3156, 3919, 7823, 9639, 2618, 1641, 7580, 6000, 1615, 5979, 4112, 4063, 175, 804, 2317, 4818, 7379, 3561, 898, 1136, 749, 4639, 1137, 3575, 244, 310, 7744, 9213, 290, 5235, 3808, 9455, 7556, 3990, 5191, 3458, 4452, 4579, 9637, 9585, 1138, 3898, 9011, 8726, 2972, 5765, 2808, 895, 8337, 6265, 4982, 3849, 5102, 1703, 7944, 7558, 8497, 3764, 4047, 6156, 1724, 2789, 7729, 9195, 4264, 6485, 1899, 472, 6677, 6899, 5416, 1975, 9994, 1293, 948, 3325, 832, 214, 8272, 3190, 230, 7172, 7022, 5343, 9902, 4201, 4118, 280, 776, 8169, 3700, 4664, 3080, 8540, 4483, 5507, 9701, 821, 1970, 8002, 3648, 8012, 5609, 5506, 4232, 9807, 9078, 4463, 7004, 4858, 2001, 9710, 8652, 5523, 55, 188, 3357, 1608, 2316, 5223, 9719, 3045, 2818, 9384, 6823, 7886, 3695, 4652, 8638, 7926, 4062, 3279, 5194, 5723, 8564, 6597, 2120, 762, 3926, 3146, 5409, 5214, 8500, 5903, 4475, 658, 9654, 7037, 2330, 6888, 990, 1125, 5137, 537, 1863, 7070, 2600, 5966, 1450, 8134, 3529, 8642, 5988, 9939, 8684, 4658, 6736, 2494, 6586, 4165, 8125, 8359, 816, 3106, 932, 1784, 7752, 8228, 6074, 6692, 5132, 543, 1516, 9721, 981, 4964, 9884, 8998, 2268, 5848, 5227, 1028, 74, 1702, 4583, 8007, 4013, 352, 1006, 785, 7174, 3922, 3641, 7392, 4517, 2290, 6080, 5873, 446, 6217, 7770, 1658, 626, 1319, 2376, 1620, 2324, 6136, 5316, 435, 4520, 2229, 338, 2105, 4549, 2777, 8248, 4876, 6154, 9234, 705, 2475, 7568, 4865, 5060, 5675, 1768, 5392, 6528, 2504, 5930, 9531, 8458, 1976, 6493, 6495, 6909, 3745, 9609, 141, 3228, 8016, 5311, 6568, 1704, 5441, 5688, 7117, 5589, 7768, 8520, 8391, 4071, 6015, 7256, 8026, 7046, 1948, 2416, 1104, 3773, 8639, 1485, 7878, 8807, 5904, 1207, 9680, 152, 5612, 7364, 8981, 1009, 8552, 1791, 7958, 5017, 9191, 9114, 9374, 1586, 8783, 2700, 9306, 4022, 723, 5327, 2786, 9756, 1188, 579, 1321, 5955, 6272, 6313, 3769, 1160, 9645, 9022, 9071, 7591, 5844, 493, 7984, 1557, 539, 7103, 1449, 8414, 1751, 9105, 8086, 3563, 7857, 9679, 2522, 5258, 2208, 7237, 6690, 1659, 1574, 1786, 1818, 6955, 1161, 5333, 5880, 7971, 8198, 8454, 8182, 7740, 5097, 4699, 5215, 2079, 9493, 8528, 5490, 2476, 3750, 4459, 6166, 8210, 620, 7544, 4676, 5964, 8231, 1, 8523, 655, 2075, 7, 5267, 4935, 1488, 9564, 4903, 8627, 9126, 7528, 588, 4344, 9948, 5505, 4311, 5573, 1327, 8290, 7320, 2385, 2110, 3895, 8053, 9332, 7162, 6741, 1793, 7304, 6781, 8449, 1607, 7072, 4458, 7084, 869, 768, 6122, 6894, 1421, 4039, 5380, 3705, 1073, 607, 7075, 8485, 9833, 2949, 6126, 4102, 8473, 8837, 6798, 6375, 2493, 3891, 3627, 2612, 8034, 5714, 9326, 5635, 4197, 5654, 2254, 8421, 5485, 3693, 3256, 8613, 4450, 6980, 2856, 8068, 4121, 3642, 6463, 7238, 2687, 7267, 1855, 2633, 9413, 9963, 9893, 9008, 3896, 9062, 7917, 3748, 6252, 2215, 9260, 5581, 6600, 3597, 7639, 8988, 824, 7962, 2500, 784, 1236, 113, 7902, 6719, 8962, 6045, 7719, 7378, 5864, 4205, 7783, 6053, 1685, 8802, 987, 4189, 6730, 9207, 6933, 4562, 6742, 5663, 1802, 3340, 4962, 7375, 6939, 8380, 4761, 2223, 5547, 8474, 4369, 1297, 3500, 8174, 4884, 4258, 5662, 3577, 2770, 6790, 6944, 9984, 4668, 4815, 1734, 9334, 183, 6383, 9980, 9707, 7554, 6424, 9589, 7266, 9946, 5769, 7180, 8498, 9573, 1517, 997, 1765, 9882, 2421, 5400, 8426, 8925, 9947, 6047, 322, 234, 2141, 5644, 9592, 3264, 5726, 9702, 6432, 6208, 4623, 3879, 3296, 2379, 5520, 6753, 945, 9588, 2049, 6992, 6373, 5109, 1885, 1807, 4335, 4738, 8185, 4497, 8917, 3983, 8488, 1822, 9952, 7471, 4602, 969, 765, 5753, 8247, 5359, 5560, 2538, 8762, 7865, 4655, 3316, 8556, 534, 3408, 9653, 5799, 644, 6720, 3428, 5918, 7807, 3942, 9347, 9230, 581, 5822, 7281, 9179, 2801, 3923, 2784, 8751, 5059, 866, 8288, 5821, 3455, 8518, 2186, 4132, 2690, 2197, 5703, 8475, 8032, 5552, 9299, 9399, 4745, 5588, 1790, 4618, 4495, 6134, 5674, 4578, 8213, 2842, 2226, 8327, 5491, 7677, 2383, 6366, 9509, 7121, 8522, 6885, 1636, 9005, 1701, 418, 2343, 7429, 7643, 3744, 7671, 3651, 1381, 5762, 7725, 8964, 9104, 8030, 1010, 4852, 2609, 9834, 9420, 2349, 267, 1162, 1999, 496, 4244, 1525, 8842, 7947, 3307, 5165, 15, 5785, 5472, 9616, 4419, 916, 6892, 4416, 4560, 8018, 487, 4919, 8058, 2027, 3017, 1011, 2017, 253, 1854, 5592, 4978, 8314, 1086, 8557, 8135, 5603, 2678, 440, 4208, 653, 1097, 3994, 8920, 3650, 9699, 8411, 5297, 613, 9288, 4867, 2437, 3380, 8284, 8465, 615, 1795, 6783, 1832, 3219, 4783, 5770, 729, 1139, 6858, 7430, 7221, 6268, 1650, 1332, 6929, 4937, 8429, 933, 3077, 4287, 154, 1065, 5978, 6691, 7491, 1351, 6482, 3033, 8214, 3736, 6627, 9437, 7224, 1193, 12, 2626, 94, 8107, 5855, 4672, 9871, 1233, 9348, 9426, 7849, 4194, 1990, 2886, 4390, 837, 259, 7712, 6556, 2940, 7536, 1907, 8033, 5236, 4487, 9453, 5984, 1051, 2310, 3419, 2958, 755, 8719, 8143, 7206, 3328, 6676, 3540, 9608, 5274, 4750, 5135, 9949, 5493, 2098, 3524, 2411, 1728, 8510, 7717, 4891, 1567, 6438, 7968, 2523, 9839, 2123, 3834, 313, 2875, 6220, 8133, 3512, 5879, 994, 5094, 4437, 325, 3436, 3618, 9955, 5284, 5687, 8865, 2178, 8370, 2165, 4159, 4351, 2279, 4635, 7468, 4732, 6494, 871, 9767, 1805, 6496, 561, 2663, 1093, 6441, 7867, 4316, 4348, 6303, 1023, 7303, 2834, 6870, 9630, 7790, 1208, 9927, 3552, 3799, 3064, 3621, 4078, 6285, 4481, 1602, 8897, 5029, 2031, 9853, 5082, 2289, 839, 6535, 4056, 6905, 2870, 9144, 8974, 5842, 9657, 7116, 3324, 6261, 8311, 8550, 3001, 8197, 3333, 2126, 3138, 181, 1343, 2799, 2156, 6835, 5346, 7498, 6601, 843, 4482, 5345, 4299, 4088, 9913, 5259, 4280, 9525, 7414, 1672, 3002, 552, 4178, 5935, 2345, 2203, 1418, 4174, 8546, 7710, 335, 5672, 4839, 18, 5058, 120, 4614, 5977, 5861, 2244, 1342, 4716, 5154, 5131, 4644, 8005, 4074, 3374, 8596, 6879, 4575, 3203, 3027, 5160, 1312, 1241, 842, 7661, 6165, 7997, 9470, 7759, 2727, 7181, 7062, 217, 9649, 4301, 8289, 5226, 3481, 6850, 7776, 870, 1235, 4516, 6530, 1266, 4443, 8875, 9598, 3452, 2153, 8461, 648, 3973, 6475, 1318, 1135, 9203, 1568, 777, 6461, 778, 6816, 92, 6643, 3557, 8606, 5837, 1798, 3235, 1985, 1432, 8253, 926, 8080, 8843, 6698, 2283, 5976, 889, 8761, 7337, 8054, 4617, 7435, 7183, 766, 841, 3015, 9768, 3868, 1039, 665, 286, 2447, 3132, 8654, 3747, 3827, 3938, 591, 988, 6189, 6469, 828, 2590, 2329, 8503, 7227, 6256, 3588, 9341, 5570, 1335, 9874, 7870, 9815, 1285, 8261, 7274, 5872, 8480, 5742, 8091, 483, 500, 7299, 8342, 7653, 9009, 2230, 8438, 1957, 3752, 6299, 9565, 7963, 3664, 2263, 8551, 8396, 906, 2906, 6390, 3180, 9092, 8240, 3460, 6106, 4593, 4533, 4763, 5877, 756, 115, 240, 921, 9058, 2315, 8028, 43, 441, 3568, 2891, 794, 125, 6311, 719, 6244, 1456, 2927, 3831, 6639, 5905, 732, 7089, 1151, 5234, 6658, 9778, 872, 592, 8769, 332, 2319, 3366, 1911, 2176, 5036, 9107, 7145, 4584, 6308, 5798, 868, 3735, 2417, 4153, 6712, 492, 2591, 2320, 8614, 3661, 3718, 1459, 5300, 6100, 4470, 8572, 1076, 7693, 3243, 311, 7573, 1156, 951, 7784, 4330, 9333, 3939, 2183, 1891, 6462, 8230, 4075, 3086, 5487, 2071, 5468, 3016, 9416, 7540, 4360, 5712, 3335, 5407, 982, 1813, 4408, 1083, 8256, 8241, 6389, 8418, 2734, 9771, 5667, 7063, 6188, 8121, 2294, 1005, 7054, 7449, 1977, 5627, 4588, 6723, 7510, 7098, 9087, 652, 5891, 6242, 147, 8680, 9059, 3809, 4671, 538, 1875, 2237, 9945, 9740, 1552, 1956, 9520, 1152, 3966, 4501, 7193, 2041, 6300, 6152, 3854, 7863, 6834, 417, 9050, 5702, 4117, 2580, 1880, 7512, 9375, 1840, 6180, 4725, 7301, 1448, 8115, 2712, 1536, 9612, 6651, 4195, 5857, 4385, 8682, 5225, 3559, 7764, 9289, 7982, 7447, 3884, 1412, 625, 2709, 4863, 2760, 2172, 7158, 8467, 7265, 9121, 3668, 1113, 5530, 9386, 1928, 3347, 8827, 790, 6121, 9127, 7066, 5701, 2200, 3114, 3405, 1453, 5875, 9533, 958, 2108, 5173, 5253, 2561, 8710, 4083, 9521, 9967, 582, 1094, 8094, 1226, 3937, 461, 5720, 4024, 2623, 9607, 1314, 3411, 1964, 9922, 503, 941, 5831, 7598, 9781, 9518, 1106, 5489, 3208, 4568, 9483, 2699, 757, 8201, 9868, 2425, 6219, 4528, 4368, 3507, 6446, 4338, 2127, 4659, 5387, 7822, 2643, 3763, 7799, 1286, 4356, 9944, 1542, 1391, 2512, 7418, 711, 5829, 5722, 774, 9070, 6707, 1736, 1801, 5241, 8027, 9421, 577, 6592, 328, 5748, 896, 2222, 6840, 1289, 4104, 5591, 912, 3383, 2375, 8970, 1764, 8524, 8861, 5183, 6673, 4040, 9579, 4238, 4313, 1900, 9208, 2814, 2356, 1247, 4410, 937, 1830, 6541, 2251, 2024, 5835, 7808, 7215, 4842, 5353, 2150, 1965, 4760, 8609, 7834, 9898, 1655, 4188, 5777, 5077, 4376, 8544, 9098, 6684, 1007, 827, 6345, 5909, 8978, 4359, 6526, 8687, 6966, 4100, 1143, 5118, 7335, 3818, 6755, 5030, 3802, 6279, 7350, 270, 8871, 6062, 2396, 8593, 6717, 7542, 796, 3975, 9320, 2403, 7700, 6837, 2779, 4721, 24, 3866, 3770, 1711, 6417, 7138, 1670, 3547, 5004, 288, 1506, 9905, 699, 6985, 3039, 6625, 1369, 8745, 484, 985, 6930, 7516, 9966, 1803, 6114, 8106, 7829, 7319, 6670, 9240, 4665, 6239, 129, 2389, 9057, 7490, 4077, 3776, 1170, 150, 438, 8798, 7211, 3689, 2342, 6457, 4455, 7792, 7670, 1996, 8576, 5569, 8611, 6137, 5737, 562, 9714, 8775, 741, 98, 1787, 791, 9665, 9684, 3237, 5800, 1528, 8189, 236, 714, 9527, 4370, 4094, 1691, 3880, 1550, 726, 3150, 376, 9143, 3456, 4328, 2057, 5585, 8453, 6582, 1710, 2357, 7622, 730, 7509, 6089, 9345, 2293, 8590, 5201, 8333, 1912, 9602, 8207, 5156, 1220, 6138, 298, 5015, 7793, 5646, 7028, 9314, 5516, 3531, 8821, 4975, 6695, 422, 5023, 4792, 7606, 8360, 6950, 8629, 7347, 5247, 9743, 4292, 3772, 1777, 6694, 8459, 1029, 3586, 8525, 6096, 9427, 4844, 5680, 7326, 7660, 2520, 2994, 1352, 5886, 8622, 8021, 8645, 1849, 5130, 1390, 1354, 410, 8076, 7845, 4440, 1206, 3459, 4449, 6791, 7860, 4689, 1680, 6264, 6540, 8448, 1072, 1923, 6913, 7500, 7733, 386, 2946, 1055, 779, 1494, 8774, 7440, 2675, 9343, 3120, 5285, 7216, 4628, 241, 1555, 4943, 5827, 6348, 277, 6578, 8976, 9007, 1571, 1905, 162, 2221, 6708, 3525, 4295, 3527, 6327, 9403, 656, 2321, 4742, 4894, 8244, 5760, 2091, 7486, 6024, 5495, 3073, 8987, 5587, 3900, 3065, 7646, 2155, 5901, 3792, 8145, 6331, 4012, 7724, 2984, 404, 5374, 9536, 5286, 2553, 6532, 9166, 9534, 9476, 5518, 4838, 1268, 9950, 6907, 4510, 5021, 5925, 9307, 4364, 4125, 4404, 9351, 6184, 9329, 8952, 1890, 1966, 4491, 2790, 3364, 2446, 4950, 9750, 6249, 4193, 4901, 7287, 2089, 6931, 2154, 2992, 2901, 4566, 4552, 4065, 5256, 7305, 4790, 2220, 2492, 3878, 640, 1837, 6145, 2201, 2909, 9983, 737, 2103, 8444, 6361, 4879, 4082, 707, 2498, 9287, 9844, 2302, 213, 6472, 5084, 7900, 7202, 6946, 4527, 8800, 4736, 2025, 5953, 9026, 8117, 8960, 5052, 4252, 8588, 1700, 4233, 7718, 6570, 6891, 8890, 8736, 5624, 7135, 2791, 57, 3608, 6294, 8161, 4284, 760, 4999, 3536, 6309, 6618, 6201, 9968, 7353, 673, 1401, 1627, 5054, 2804, 3797, 1199, 8826, 4693, 2265, 7678, 829, 3401, 5467, 9858, 1709, 4137, 9019, 3882, 1141, 7722, 2598, 6524, 8267, 6898, 680, 2944, 4218, 1898, 21, 2046, 4259, 4611, 7628, 8604, 5787, 9672, 7282, 1323, 5421, 3363, 5151, 408, 8389, 6917, 6652, 6794, 3368, 6412, 8315, 6368, 7043, 3122, 5736, 878, 5479, 3837, 908, 7003, 7136, 2496, 8392, 1187, 6084, 3805, 6083, 1809, 7407, 7199, 3096, 8484, 4621, 8232, 1526, 4666, 6788, 9541, 4735, 1146, 3592, 331, 7518, 3532, 857, 6667, 3658, 7908, 2825, 3819, 8277, 5661, 2405, 3813, 4340, 1877, 6063, 4971, 2866, 585, 6634, 6584, 4211, 7910, 5062, 1209, 7994, 6130, 694, 9655, 2694, 5310, 7333, 3231, 4183, 8509, 4151, 9636, 9300, 634, 7508, 881, 7279, 9336, 7369, 6906, 1963, 597, 4199, 116, 886, 7382, 1979, 7553, 4046, 5309, 1706, 7683, 2326, 645, 3346, 4737, 4673, 9816, 3444, 1227, 6574, 2574, 6859, 5521, 2077, 473, 9755, 7767, 9836, 9748, 4608, 3135, 8407, 2942, 9039, 3867, 7988, 8737, 2018, 6320, 4020, 4615, 170, 1070, 222, 9917, 6473, 700, 5095, 3041, 9086, 5881, 5575, 520, 9832, 8064, 8047, 3623, 5912, 3694, 5890, 9709, 7608, 8442, 4034, 4640, 4941, 3505, 4300, 4176, 2435, 7420, 26, 7832, 9759, 1883, 465, 2305, 4535, 1386, 9408, 4007, 3663, 7952, 3088, 106, 9447, 3093, 6296, 4828, 7942, 580, 1329, 4909, 3847, 7254, 7629, 2427, 4986, 5098, 7239, 4380, 430, 5117, 7599, 8722, 5334, 8123, 466, 5805, 2038, 3213, 6179, 4081, 1405, 1630, 7163, 2465, 4053, 3945, 2081, 8779, 9901, 4983, 3912, 1864, 7324, 1510, 6770, 1084, 5121, 4586, 6092, 2184, 563, 9500, 5671, 5296, 6288, 2771, 7398, 7992, 1068, 8716, 1328, 5412, 5695, 7448, 6645, 4388, 2557, 4547, 7966, 9620, 4878, 8308, 5116, 9460, 4642, 1894, 9194, 4478, 7151, 9770, 2021, 6012, 3815, 8190, 7413, 1120, 8992, 5651, 1600, 2272, 1179, 5888, 7811, 2111, 1520, 4832, 3400, 5665, 6073, 4570, 4086, 93, 2617, 6409, 7772, 2371, 7030, 4754, 2443, 4902, 4700, 6621, 5424, 8664, 7953, 7715, 6839, 7168, 6283, 2802, 2810, 1946, 2953, 5567, 2601, 6226, 30, 6387, 7584, 5419, 3616, 8953, 8829, 6379, 4407, 100, 4358, 3276, 4015, 4256, 2873, 5438, 8164, 6350, 8969, 3972, 7828, 4803, 7975, 5778, 90, 3957, 3931, 4474, 8222, 4572, 3284, 7781, 4610, 5792, 8022, 8859, 5115, 2470, 4108, 1114, 9312, 9412, 315, 2768, 9063, 7421, 7026, 4222, 7582, 8452, 7437, 9249, 9512, 9274, 5339, 9546, 2333, 4029, 9835, 1133, 4959, 8607, 5068, 1305, 3620, 5159, 6851, 6236, 9578, 9095, 752, 9125, 2698, 9736, 3043, 5349, 5501, 1917, 5344, 9267, 9358, 6501, 4442, 7676, 7625, 3698, 7228, 9037, 5634, 295, 5047, 8704, 1729, 5035, 3068, 5878, 5071, 4367, 5814, 6486, 5067, 4336, 8658, 169, 9558, 3361, 8349, 1524, 6598, 2005, 9212, 3542, 2662, 4374, 7111, 3155, 6450, 5685, 2622, 3159, 1189, 7017, 3572, 834, 9327, 7983, 1259, 1850, 3806, 9132, 9515, 9881, 2479, 2628, 6982, 4756, 691, 9108, 5632, 4031, 1649, 891, 6505, 7970, 6088, 2555, 5217, 4984, 5099, 2794, 8752, 5024, 2334, 2188, 2595, 8312, 7594, 5393, 6889, 7306, 8993, 6557, 2930, 4776, 767, 6748, 1182, 9574, 5450, 9513, 306, 9232, 4531, 1577, 3838, 3766, 3194, 7388, 9090, 5863, 5262, 3933, 873, 7387, 1987, 4424, 3632, 5005, 1301, 8919, 7152, 1669, 7073, 4210, 6572, 7210, 9772, 4577, 5601, 7226, 6427, 8432, 6301, 7916, 9378, 8043, 8259, 4877, 8750, 10, 9225, 412, 1420, 9582, 9189, 5144, 7436, 6624, 7739, 7731, 4365, 9093, 7575, 4089, 3289, 6030, 1281, 1799, 5238, 5699, 1499, 7170, 29, 4529, 1501, 4221, 8305, 5174, 4002, 2408, 4005, 388, 8569, 9385, 5356, 2676, 2, 1866, 3076, 7450, 847, 9215, 7837, 5885, 3345, 5986, 3021, 3215, 3484, 136, 5221, 5373, 8001, 6671, 3052, 2270, 455, 9369, 1937, 5782, 8469, 7785, 3399, 1545, 9514, 6801, 3179, 3723, 7846, 9432, 3268, 6838, 9909, 1219, 7856, 1565, 8266, 4057, 1988, 401, 5337, 7893, 8319, 3894, 3871, 2754, 4231, 1203, 9423, 1112, 909, 6523, 4476, 8967, 9441, 4109, 3115, 3785, 1782, 2121, 9800, 2149, 6911, 123, 507, 2945, 524, 2419, 7563, 4565, 8782, 5220, 8279, 126, 2756, 1487, 5532, 1195, 7664, 4353, 5719, 4066, 8889, 5809, 8254, 9634, 5970, 4377, 5197, 6521, 7406, 6787, 9051, 6336, 3238, 190, 7523, 6430, 8415, 3579, 7634, 1893, 5001, 2507, 8206, 297, 7702, 7346, 9054, 1167, 4695, 4096, 4915, 3369, 4774, 9894, 9449, 6722, 3457, 9396, 8913, 2539, 8141, 4918, 4230, 4103, 1355, 3807, 9502, 2982, 2931, 9988, 5379, 9577, 3840, 2384, 8127, 5571, 8728, 2080, 5049, 1984, 3110, 2193, 2689, 1619, 9141, 7816, 9284, 7264, 8731, 754, 6807, 8586, 2914, 6132, 6411, 2805, 9629, 6118, 7025, 3201, 4415, 2515, 8715, 4281, 5618, 393, 3038, 1668, 344, 1605, 4060, 3533, 282, 2398, 9992, 3026, 811, 4373, 2453, 7903, 8662, 7806, 4646, 1871, 3570, 5219, 8554, 2995, 9424, 5947, 7044, 556, 3788, 8849, 9310, 6674, 1931, 2564, 1016, 9751, 9590, 7647, 2649, 9467, 1399, 7578, 2744, 9689, 5187, 6812, 4387, 8777, 1767, 8574, 2287, 5150, 2782, 7833, 1148, 9323, 3599, 9911, 1754, 7271, 8124, 6298, 7294, 8417, 1317, 9619, 5843, 4268, 9242, 4389, 4601, 5700, 4728, 635, 688, 3006, 8515, 6797, 1653, 3172, 9174, 8926, 4647, 231, 1595, 4010, 3888, 375, 6178, 9205, 3594, 9659, 1054, 9904, 4630, 6855, 9694, 1394, 6468, 8302, 1079, 5640, 2309, 3709, 7918, 3241, 4397, 7515, 2954, 5895, 8255, 4994, 5437, 362, 6224, 5621, 9202, 469, 5869, 5371, 8795, 5278, 733, 1134, 8331, 6522, 5481, 8830, 5192, 2721, 8219, 9883, 9490, 9199, 2505, 1936, 5107, 1244, 4115, 7244, 6588, 1744, 6517, 3677, 946, 1939, 9280, 6686, 6509, 42, 3103, 2117, 8702, 6576, 1482, 959, 586, 9241, 1758, 5641, 6649, 2830, 8176, 327, 1443, 1518, 8730, 1647, 5527, 2434, 8533, 6560, 5063, 1356, 9528, 2544, 3875, 2950, 4753, 3062, 1131, 2807, 9492, 7672, 7481, 6323, 822, 1697, 3054, 8350, 3598, 9017, 1844, 2037, 6223, 8880, 291, 2646, 3583, 142, 7631, 85, 1827, 9628, 1331, 966, 3055, 3465, 6203, 1283, 618, 6033, 5341, 4314, 7692, 1347, 4904, 1367, 4401, 6925, 1339, 9227, 2713, 8357, 3024, 3979, 3537, 3587, 7099, 4992, 1144, 5839, 4587, 3309, 2337, 1705, 8313, 5892, 4906, 8892, 2627, 7597, 9891, 531, 7290, 5458, 3478, 9503, 2516, 8281, 1544, 14, 4395, 8744, 2546, 3011, 9554, 8851, 5622, 7308, 3861, 5237, 9156, 9793, 1216, 174, 8847, 3134, 2483, 6771, 9685, 5486, 7229, 4148, 3181, 9067, 7589, 2843, 6480, 9876, 421, 4723, 1353, 6059, 7348, 4331, 6291, 4444, 6672, 3617, 7020, 5129, 9599, 3199, 7915, 4505, 448, 8352, 8793, 4525, 6228, 6583, 5944, 4036, 7754, 7685, 1019, 5363, 6819, 7938, 8085, 6343, 4382, 1609, 6258, 2029, 8616, 3940, 6273, 651, 5347, 4541, 3670, 9196, 8487, 4428, 3997, 638, 5294, 5006, 7932, 636, 1581, 1646, 1128, 1384, 512, 614, 5289, 326, 2499, 1971, 3313, 8785, 6681, 3565, 7943, 70, 4490, 5271, 9443, 3600, 4567, 8180, 9537, 4890, 1717, 4500, 4631, 2848, 2152, 2078, 1243, 2440, 3545, 1451, 5193, 2344, 3963, 426, 6070, 3974, 6628, 1410, 920, 9632, 4551, 5858, 1603, 883, 3538, 9553, 3605, 9776, 2247, 3877, 3131, 2620, 9286, 497, 4310, 4998, 4135, 3426, 3920, 1149, 5070, 193, 4518, 2703, 2908, 1746, 2431, 9178, 5202, 7225, 7323, 5164, 5713, 684, 4972, 4278, 6555, 6171, 9339, 8014, 7454, 9477, 4355, 2549, 6026, 1925, 1737, 4350, 3311, 5960, 8563, 4224, 8472, 9167, 2513, 9938, 6896, 3728, 2092, 2581, 6825, 6380, 3619, 5313, 9265, 4384, 3977, 3927, 2218, 9794, 3589, 7154, 8882, 686, 674, 2291, 8215, 3395, 589, 3591, 7842, 1926, 9354, 8568, 5991, 9311, 4337, 9402, 8329, 1461, 4916, 6079, 3184, 7821, 4026, 2688, 2920, 8519, 9122, 5686, 3774, 9596, 4557, 107, 76, 8677, 8463, 145, 9624, 7813, 5378, 7192, 738, 459, 6616, 1154, 7658, 1457, 9575, 6271, 7013, 2702, 1604, 9999, 6212, 8193, 5044, 246, 8093, 3404, 8477, 8951, 5718, 4678, 9739, 4413, 8077, 9964, 1192, 5061, 7314, 6778, 4831, 8008, 4563, 2985, 292, 3789, 1955, 5282, 8102, 6483, 1299, 7307, 7936, 5051, 7317, 9155, 4997, 8273, 3981, 5893, 6489, 3475, 7355, 7506, 4519, 4767, 5965, 7681, 3585, 3522, 8066, 5306, 9, 5559, 3633, 6875, 3746, 3864, 6877, 6254, 2169, 6127, 2395, 4548, 5860, 8963, 1304, 7329, 8385, 287, 4465, 7588, 8149, 2471, 7478, 1731, 817, 285, 8340, 8959, 8479, 3509, 682, 5222, 8013, 3833, 8930, 8667, 831, 8343, 7284, 2603, 4185, 2896, 8160, 8991, 8132, 7532, 7617, 1360, 1276, 3669, 1674, 63, 5293, 307, 8995, 1940, 3139, 9557, 3702, 4781, 1490, 9488, 5637, 4620, 4227, 8406, 7669, 6443, 4870, 5643, 3502, 8097, 161, 798, 6465, 6764, 1505, 36, 3443, 735, 9359, 1661, 513, 9819, 2869, 1673, 1522, 5460, 1540, 1590, 8542, 8748, 535, 8891, 8630, 4354, 5252, 3161, 7603, 2762, 1184, 8419, 1631, 9366, 1383, 1123, 6019, 5781, 8943, 2455, 7050, 1901, 4446, 7001, 3057, 3074, 1012, 6650, 5149, 1254, 1470, 1460, 7359, 3058, 8062, 2912, 9397, 590, 372, 9597, 5716, 5994, 4241, 3280, 4304, 8907, 1382, 3932, 5145, 8901, 6010, 1874, 647, 205, 5847, 105, 1130, 8608, 6381, 1365, 6125, 3092, 5002, 296, 3164, 3822, 1042, 7485, 3350, 7869, 7462, 9445, 4059, 6384, 7009, 6689, 1043, 2614, 4223, 7343, 7106, 6766, 2364, 252, 8114, 7802, 565, 8208, 7125, 9138, 9971, 6151, 1040, 3354, 2677, 3396, 9434, 1771, 3607, 3144, 1664, 5972, 7727, 8276, 8900, 9526, 8725, 5248, 7913, 8212, 9193, 4616, 9783, 2739, 5014, 5913, 8816, 1553, 5283, 8157, 2840, 2833, 2644, 3063, 4706, 1346, 2351, 575, 219, 9675, 693, 5372, 1237, 6550, 5167, 9960, 1962, 2836, 9089, 9283, 5788, 9562, 953, 8246, 2410, 8727, 9040, 8994, 8595, 7064, 5266, 2252, 3471, 1469, 2530, 9219, 4571, 7539, 9638, 7195, 7179, 5586, 281, 5326, 7336, 1124, 5134, 6282, 604, 8648, 2160, 144, 6581, 8003, 8681, 4114, 949, 2889, 9808, 5565, 4306, 9895, 9101, 6630, 2819, 2318, 4403, 5908, 6451, 3804, 3645, 2533, 2460, 6091, 2905, 1414, 7898, 2615, 2653, 9969, 7214, 6255, 8220, 7965, 2531, 437, 2401, 5655, 274, 6648, 1439, 9896, 2182, 1096, 931, 4004, 681, 5647, 2143, 2798, 7188, 2937, 3949, 2467, 2524, 923, 8462, 8997, 2146, 8545, 4391, 9711, 7131, 1393, 5101, 8683, 8287, 8494, 511, 8535, 7699, 4226, 9015, 9806, 4555, 350, 7441, 9197, 6724, 718, 1257, 5040, 3416, 5020, 3195, 8753, 8940, 4749, 5076, 3501, 8933, 4179, 5733, 8818, 7995, 3483, 5776, 9763, 7144, 9715, 574, 4780, 595, 7027, 748, 3254, 5139, 2706, 4123, 9444, 4545, 8055, 8422, 5898, 1215, 6058, 6520, 9848, 8367, 9846, 2448, 9452, 8549, 2925, 1444, 8344, 490, 3102, 2232, 5605, 7922, 9154, 6895, 2766, 4791, 7367, 1753, 4629, 637, 8119, 8084, 6418, 3000, 235, 3562, 3730, 9023, 2923, 4850, 7340, 9401, 9567, 7945, 7071, 1637, 3049, 4847, 750, 3136, 6704, 8822, 6185, 3174, 1431, 542, 3842, 7178, 6664, 7978, 8046, 2009, 3249, 9766, 1481, 9792, 8650, 5410, 4645, 8846, 1475, 8372, 1022, 856, 5768, 2367, 2307, 370, 467, 2679, 4323, 5897, 8081, 9418, 3099, 4612, 1902, 1228, 5882, 3341, 8915, 1177, 1425, 1087, 7721, 5081, 7092, 8809, 8724, 4576, 5780, 4914, 4993, 4569, 4788, 6040, 7377, 8056, 2725, 6365, 9186, 6808, 3615, 6064, 8295, 9775, 4649, 1558, 7605, 8470, 6131, 7800, 1612, 5597, 2667, 7786, 6102, 9368, 6355, 8356, 1110, 1742, 2267, 8740, 8009, 8823, 1570, 6604, 835, 5, 2672, 9618, 5942, 6190, 6305, 1719, 8156, 3892, 6893, 163, 1819, 7330, 3665, 6846, 2372, 9674, 8670, 2393, 8278, 4061, 6504, 899, 4124, 1614, 5894, 9758, 4293, 6207, 166, 3454, 7493, 4254, 7479, 1500, 3851, 7706, 6579, 5423, 551, 6973, 457, 2551, 9864, 8620, 7931, 1690, 3657, 7270, 4669, 1560, 4805, 7149, 5806, 9593, 5508, 7914, 9951, 2340, 35, 6860, 7564, 5433, 6198, 9448, 2716, 8457, 4393, 7433, 2407, 3889, 424, 1196, 1370, 3356, 5564, 5476, 2652, 623, 8412, 4965, 6534, 526, 3423, 976, 4945, 3739, 86, 5474, 199, 7763, 8191, 8695, 4840, 9879, 9279, 7443, 9256, 9915, 3030, 6161, 5691, 8516, 385, 4375, 1362, 2599, 8504, 5867, 1826, 698, 2370, 4648, 4257, 9780, 2366, 84, 5260, 5022, 527, 2278, 9395, 6610, 3295, 1776, 1282, 2281, 4431, 3829, 1392, 4556, 5381, 8612, 5125, 41, 6833, 9119, 7019, 9049, 6440, 4378, 7234, 3624, 7979, 368, 3372, 9084, 3823, 198, 3176, 5213, 2023, 7422, 4489, 8209, 584, 4126, 7165, 571, 9774, 8657, 3996, 7788, 7607, 9929, 8706, 1592, 1375, 3781, 2363, 5032, 8478, 806, 7941, 5351, 5807, 8371, 2472, 6513, 8603, 1778, 6216, 51, 2502, 1738, 4871, 4907, 8283, 6884, 8923, 5301, 3712, 4275, 3795, 8898, 2986, 2171, 4766, 6998, 7668, 3183, 5871, 7844, 5514, 6552, 3407, 4467, 8006, 8983, 530, 4507, 300, 5451, 3666, 721, 3716, 5969, 913, 9075, 3216, 2277, 8205, 8118, 727, 1954, 6729, 8345, 8495, 5079, 1903, 1041, 7100, 3013, 9691, 7905, 56, 1640, 3554, 5403, 2616, 5440, 6055, 3168, 389, 1324, 2907, 4187, 2692, 2758, 1644, 2451, 1221, 9845, 432, 7080, 6339, 5074, 8941, 4468, 3846, 330, 8052, 5469, 4091, 2673, 3142, 1107, 2924, 5464, 3162, 3433, 3606, 3958, 8403, 2174, 5123, 88, 7689, 6245, 6949, 9943, 8984, 8531, 1876, 9309, 2529, 1298, 8527, 81, 557, 7442, 3486, 9218, 9606, 1048, 8165, 7118, 3821, 1794, 8116, 9647, 4225, 5710, 1821, 7014, 6460, 3835, 9843, 7624, 8797, 6175, 1491, 5019, 4687, 7872, 978, 6772, 4235, 8275, 8675, 9695, 6394, 232, 34, 1872, 9576, 6093, 6037, 1250, 5983, 4835, 5668, 3656, 8428, 3593, 9627, 9387, 7349, 7546, 5764, 1633, 8632, 7972, 2935, 3060, 2065, 9263, 9803, 9153, 9747, 3360, 5287, 1358, 4001, 5418, 7810, 9965, 423, 4464, 1180, 4979, 8099, 7769, 5950, 7218, 2976, 3286, 9498, 1474, 3193, 8688, 3126, 6759, 3893, 289, 5852, 5158, 716, 8112, 4023, 5561, 9357, 5759, 5823, 6259, 5779, 5492, 1579, 9903, 7875, 8000, 7654, 7156, 9933, 8794, 4952, 6056, 7964, 8031, 6571, 6335, 6705, 8537, 11, 3535, 7703, 2961, 9438, 8905, 1512, 2162, 4504, 9172, 2556, 3439, 1102, 6302, 7446, 5758, 8801, 5414, 2748, 9729, 8364, 2862, 8252, 3946, 4704, 5315, 1262, 6, 2466, 5729, 9038, 2276, 8534, 671, 160, 1892, 9825, 4000, 8316, 9102, 7814, 2943, 1632, 4366, 6991, 3192, 6862, 2761, 1820, 9847, 3714, 1707, 9857, 3786, 5659, 3571, 2086, 9914, 9663, 6662, 4237, 390, 2099, 3660, 6403, 3510, 6965, 7189, 5397, 657, 963, 3604, 7496, 8079, 7882, 6633, 5008, 2249, 3844, 2521, 4785, 8029, 4147, 9877, 7956, 5580, 8844, 5072, 8971, 4220, 1398, 3200, 2166, 1059, 5538, 1881, 5110, 7998, 4249, 8423, 2847, 5209, 3470, 5185, 1034, 7794, 5456, 5949, 4595, 1127, 9440, 2573, 5432, 2045, 5427, 7016, 6800, 4502, 3662, 3609, 914, 2246, 3412, 8203, 7354, 670, 9673, 6349, 9021, 6735, 3448, 5725, 6170, 1489, 3095, 2008, 3564, 2163, 1440, 8852, 6041, 7650, 279, 7595, 8932, 568, 3173, 3036, 1692, 9296, 8653, 6682, 758, 9508, 4922, 1098, 4874, 9268, 1067, 1769, 621, 7161, 68, 2377, 8514, 3487, 5143, 3154, 2258, 2719, 8386, 8152, 1611, 3315, 8383, 1972, 3881, 1446, 6594, 3740, 7373, 9220, 4321, 1910, 4245, 3760, 7394, 9869, 8513, 2508, 2096, 9749, 4663, 3326, 2332, 3299, 2859, 3574, 3019, 48, 7374, 2683, 171, 6669, 8558, 8665, 6809, 6076, 6250, 7356, 8796, 6484, 9187, 4145, 2674, 4037, 703, 7623, 3004, 7817, 4869, 8814, 229, 5050, 3684, 1929, 789, 8039, 9068, 1274, 5982, 5727, 743, 2274, 9293, 256, 5859, 2306, 4625, 9328, 2205, 9677, 2158, 2361, 2629, 1562, 1261, 1295, 5948, 2088, 7645, 9779, 8689, 8146, 6702, 838, 1763, 9693, 2048, 4692, 6439, 4216, 8249, 5329, 254, 5832, 7096, 9400, 6527, 7273, 3242, 8792, 4677, 1507, 6948, 2606, 7696, 5037, 5975, 210, 9342, 4981, 6111, 5750, 1183, 9000, 6262, 9128, 2545, 4701, 22, 3389, 4582, 9224, 5166, 7652, 5073, 7707, 3066, 5968, 1395, 3901, 8832, 7002, 5826, 2661, 1514, 2353, 7102, 1272, 742, 7520, 5249, 4008, 9463, 3751, 2952, 1294, 8656, 3634, 1273, 4657, 3462, 6352, 4917, 3968, 1174, 3729, 6153, 347, 82, 9290, 7157, 9291, 87, 4812, 4412, 2002, 9697, 6554, 6617, 2194, 6229, 1534, 8835, 6316, 9074, 2780, 3251, 6967, 844, 2575, 4319, 4239, 184, 3170, 8296, 1385, 6901, 7300, 7824, 9065, 7217, 2811, 2932, 7465, 7991, 9804, 8511, 1349, 5370, 9787, 2095, 918, 9052, 787, 8183, 4734, 4477, 345, 8738, 3612, 8663, 8435, 6347, 5357, 2852, 8499, 3112, 2355, 2738, 6400, 406, 518, 9048, 3105, 318, 3420, 1492, 2729, 9920, 4851, 8732, 9818, 257, 3995, 6326, 5849, 2783, 2647, 7560, 6396, 6404, 3954, 7576, 9568, 5323, 8591, 6209, 5721, 7412, 5212, 9436, 2444, 1090, 8087, 7969, 7531, 3784, 2934, 1473, 3550, 624, 6830, 5200, 1698, 7248, 6173, 1175, 397, 6908, 996, 8036, 7713, 5011, 9164, 4702, 8624, 6247, 6192, 5962, 2929, 6626, 9704, 3914, 1561, 7042, 9603, 3398, 6785, 8171, 7397, 6711, 2897, 4872, 5568, 859, 6456, 8773, 7204, 5090, 5606, 1064, 7146, 9560, 823, 2151, 2858, 3755, 1596, 7261, 7023, 425, 3862, 9996, 713, 1503, 3520, 6865, 6514, 2656, 9198, 308, 4755, 3841, 8398, 4202, 5574, 8944, 4606, 4396, 6638, 2658, 2161, 3584, 5243, 4209, 1869, 6410, 1284, 5000, 7011, 6437, 4352, 9732, 5515, 2893, 379, 548, 1229, 7796, 135, 1740, 4016, 5649, 7815, 1823, 8651, 7495, 8153, 6078, 764, 1050, 396, 745, 2104, 2996, 3244, 1153, 2350, 8476, 7082, 9862, 2857, 667, 9106, 874, 9394, 2999, 2821, 5446, 4379, 1817, 9361, 2325, 2402, 4947, 223, 6099, 4860, 7753, 4298, 9294, 1046, 7061, 9765, 9703, 2718, 9085, 7312, 9505, 7812, 2387, 3029, 1681, 409, 6693, 6081, 9233, 4434, 775, 6329, 6974, 854, 3362, 5442, 5206, 2670, 9298, 8260, 3211, 8729, 2275, 3042, 3499, 121, 6035, 1230, 3178, 2715, 4277, 1851, 3250, 4085, 2039, 6912, 547, 603, 9053, 875, 7057, 5851, 2993, 5196, 2369, 6364, 2665, 3753, 616, 9805, 7409, 4949, 7881, 9777, 4309, 975, 6897, 3123, 2565, 6562, 5305, 6260, 2853, 5906, 5184, 7056, 1308, 5862, 3014, 168, 1338, 5140, 8434, 3780, 1621, 9036, 6031, 2826, 4265, 2261, 192, 7636, 924, 807, 3322, 1292, 1091, 9137, 1388, 6356, 8600, 8741, 5595, 8623, 2723, 3930, 4327, 2245, 4485, 6401, 99, 6577, 3330, 901, 4255, 5010, 9559, 8063, 1865, 3860, 3706, 9990, 2832, 6622, 2578, 669, 4345, 182, 8075, 8194, 6117, 1684, 9474, 4508, 5545, 7644, 3980, 9760, 1564, 8394, 4167, 955, 8781, 1919, 8833, 2415, 3754, 7368, 1943, 9550, 3708, 9583, 4784, 5461, 3331, 8720, 6046, 7240, 9484, 3738, 3218, 5429, 7883, 2400, 3673, 6346, 5198, 9646, 1563, 6832, 2883, 739, 3288, 4049, 3089, 2983, 2179, 2705, 8310, 7967, 3247, 2828, 2238, 23, 6732, 7285, 3683, 7920, 7735, 7425, 6611, 7760, 9277, 6007, 4243, 6278, 4286, 9644, 2187, 1427, 8335, 8126, 3679, 475, 885, 6107, 9837, 5731, 224, 6507, 284, 2191, 679, 7538, 6388, 5408, 260, 957, 5057, 9866, 1967, 3450, 4604, 5887, 4163, 9222, 1078, 3989, 2064, 9077, 8757, 2537, 3675, 5207, 7852, 4204, 9961, 7095, 6133, 3485, 6476, 5426, 4933, 897, 2570, 7236, 9782, 9081, 1407, 9831, 7321, 6367, 4215, 3757, 1733, 3306, 9451, 2800, 4006, 2260, 4912, 4955, 6641, 8365, 7419, 7220, 3204, 6103, 8772, 4799, 9405, 2844, 5789, 9621, 1396, 2892, 5484, 6065, 882, 1163, 2464, 3385, 4968, 1419, 9764, 3129, 8369, 3659, 8101, 6637, 6900, 6017, 7839, 8512, 863, 3392, 5957, 3189, 9247, 9157, 9861, 3551, 303, 7029, 2348, 6718, 6575, 3116, 7134, 9270, 4158, 7133, 6932, 9852, 8621, 7143, 5741, 744, 6378, 6696, 5929, 6589, 2865, 7569, 6958, 4691, 2167, 4341, 354, 9529, 1129, 6233, 2884, 6304, 5633, 1952, 7751, 5420, 522, 3639, 7830, 5142, 2882, 2068, 2313, 1204, 6954, 2168, 2796, 6533, 6104, 4739, 5617, 3205, 731, 2750, 2851, 5752, 9317, 4250, 9613, 66, 2373, 4599, 1511, 5557, 3321, 2461, 4346, 1036, 5152, 5422, 2076, 2550, 4598, 576, 4538, 1288, 9356, 3186, 8565, 8355, 8363, 6609, 9555, 341, 3734, 9171, 1364, 9066, 211, 7771, 7191, 1861, 7896, 9617, 2586, 9002, 5817, 6940, 5673, 7000, 9069, 573, 4931, 4386, 4469, 9745, 8945, 1234, 8972, 7278, 9982, 8336, 4473, 180, 1306, 1002, 3596, 8088, 1379, 7853, 402, 8334, 7417, 6263, 7250, 7981, 3961, 2526, 3414, 269, 4778, 9851, 333, 1888, 9907, 9147, 728, 225, 9160, 4141, 9027, 4011, 3521, 4171, 9519, 5549, 8095, 2823, 2463, 4150, 8351, 3160, 7297, 2159, 4720, 6745, 3425, 5354, 1519, 353, 4804, 5883, 4988, 7159, 3224, 9458, 9169, 3266, 8806, 7637, 663, 4512, 7401, 9540, 187, 216, 7688, 7911, 305, 1265, 7038, 9331, 5452, 2296, 559, 8699, 8245, 8776, 5366, 8583, 3365, 5244, 8697, 2102, 661, 6937, 8181, 858, 8130, 6492, 2894, 4164, 7561, 1667, 6075, 7015, 6706, 1756, 5332, 3285, 7091, 5614, 3953, 3503, 9226, 3442, 8179, 7737, 384, 7850, 6640, 1591, 3692, 5813, 9276, 2936, 6782, 6377, 1315, 2695, 7618, 5526, 725, 6923, 1745, 1232, 8109, 6767, 8939, 5541, 1882, 7341, 7951, 1539, 7585, 7466, 8293, 7318, 5583, 1368, 5602, 4559, 1100, 3943, 3580, 578, 7494, 8553, 7104, 2787, 28, 3711, 7547, 5362, 6659, 6098, 4523, 3647, 2241, 5850, 9854, 3202, 934, 5754, 7511, 3783, 6915, 5399, 8735, 6737, 8754, 9475, 7352, 1887, 1720, 4156, 7360, 2817, 4207, 7263, 502, 877, 2250, 2022, 6663, 9099, 5756, 5292, 3187, 6009, 2979, 2007, 8450, 6147, 808, 8159, 8120, 6370, 8896, 4451, 485, 3721, 2809, 7055, 4035, 7673, 5402, 5448, 1437, 4155, 9176, 5914, 773, 3863, 5229, 3141, 2262, 383, 3756, 5365, 5013, 5376, 5322, 9959, 3654, 2824, 4686, 6159, 9042, 7789, 2730, 5537, 2388, 654, 861, 5208, 8561, 382, 1554, 2816, 7876, 5626, 6786, 7534, 273, 4540, 9055, 9177, 1663, 5838, 7648, 780, 7927, 3546, 4169, 7416, 49, 2196, 4509, 6039, 3758, 1942, 7934, 3151, 3870, 8416, 4626, 2757, 5364, 2010, 7034, 5996, 1580, 7209, 122, 6143, 4192, 3128, 1547, 814, 9538, 4457, 5911, 7974, 5578, 3252, 6449, 2630, 3379, 6986, 5126, 9076, 2240, 1986, 304, 7438, 9601, 515, 944, 3152, 4090, 4068, 5896, 2235, 6876, 3263, 1968, 4969, 4880, 9390, 9088, 8061, 8443, 1638, 9737, 6820, 8187, 6776, 6464, 27, 8587, 9722, 1582, 5375, 2941, 4574, 1974, 8362, 8381, 9726, 3384, 2960, 2198, 9985, 9935, 6194, 8142, 7795, 1357, 9496, 7060, 3298, 61, 143, 5280, 5952, 173, 2264, 9072, 2978, 8529, 6281, 2917, 2542, 9975, 2433, 7590, 7513, 1361, 4855, 6448, 6069, 7933, 3059, 4032, 251, 4905, 7993, 709, 6886, 1213, 6488, 2106, 7452, 5884, 2474, 7638, 8956, 2488, 9457, 9313, 8756, 4976, 4329, 7545, 2138, 9252, 3209, 3828, 4810, 6290, 7497, 8233, 9611, 2970, 8324, 5922, 4105, 6149, 8304, 7132, 3635, 4711, 108, 3986, 1730, 3969, 2462, 4471, 1240, 8040, 5254, 8502, 8768, 9414, 97, 6902, 151, 77, 8739, 9650, 5388, 6002, 5496, 6310, 8543, 999, 2323, 6962, 3441, 7047, 7223, 5868, 9047, 8468, 6688, 1958, 3149, 6660, 8098, 677, 5277, 631, 672, 4841, 2720, 9295, 6919, 7562, 3688, 1922, 3281, 9712, 3743, 6023, 2248, 633, 5845, 2737, 6452, 5735, 521, 8867, 5321, 6214, 6957, 6827, 1829, 4846, 5546, 6817, 4054, 1732, 5136, 7171, 1639, 4317, 6585, 3329, 4402, 7504, 1060, 892, 3188, 6082, 7036, 6765, 3628, 8483, 1879, 6318, 309, 4445, 1197, 4770, 2042, 8985, 1458, 954, 7959, 5330, 5188, 4856, 7762, 7884, 6935, 64, 2874, 6193, 445, 6938, 6455, 4184, 220, 9255, 3713, 9656, 365, 3323, 4820, 6049, 9746, 1377, 7732, 9698, 1025, 2806, 2835, 7137, 9269, 7888, 5038, 2300, 7529, 1238, 867, 1069, 8348, 3697, 6869, 9388, 8111, 3915, 5232, 995, 4361, 5445, 4206, 7389, 570, 2391, 5704, 2781, 1132, 2115, 2788, 2436, 4590, 201, 967, 6415, 9900, 8876, 5041, 5698, 7258, 506, 6071, 7296, 1716, 5657, 6321, 7232, 1825, 9429, 7251, 2286, 1122, 7973, 5027, 8597, 668, 8902, 3343, 2243, 660, 5679, 8147, 2177, 4279, 1052, 3630, 1155, 2597, 1280, 8678, 6874, 2660, 8928, 8841, 7140, 9383, 1721, 7894, 1993, 9229, 1121, 2532, 1249, 8291, 6525, 6780, 7169, 6815, 2778, 488, 268, 8096, 9523, 6222, 5525, 7344, 2685, 7453, 6466, 3717, 7124, 572, 9970, 9485, 8325, 7130, 6269, 209, 3625, 6506, 5865, 7242, 1739, 6997, 2441, 1157, 2639, 9860, 2481, 1896, 6003, 7704, 6408, 3978, 8320, 5563, 294, 7467, 6872, 3003, 1320, 8703, 9942, 6376, 5693, 3468, 1417, 7482, 6144, 6169, 2487, 8163, 609, 5477, 4394, 3098, 8709, 204, 4650, 840, 4154, 1311, 9161, 3727, 46, 4534, 4674, 4684, 5801, 9730, 2432, 2456, 7616, 2233, 4733, 5348, 564, 4181, 6752, 5927, 3491, 9033, 2362, 139, 7517, 7552, 351, 9349, 5104, 4492, 4637, 2987, 7572, 8200, 4836, 8456, 4680, 177, 7949, 5308, 4638, 1062, 1111, 8582, 7205, 9148, 7847, 1559, 9569, 8927, 9285, 9717, 1378, 8881, 2269, 501, 3287, 1714, 9570, 6739, 6871, 1502, 7687, 9958, 7613, 2735, 1726, 6061, 4305, 9517, 6590, 979, 7110, 8996, 4889, 3124, 6353, 4656, 746, 405, 4825, 3778, 8326, 2282, 9253, 7925, 8784, 6599, 6760, 2579, 1214, 3959, 1785, 6591, 1858, 427, 2382, 5853, 8262, 9376, 9382, 7291, 8635, 6538, 8460, 2511, 9688, 3394, 8322, 1231, 5724, 65, 157, 6333, 6806, 3145, 4200, 7051, 9491, 1363, 5033, 2190, 7040, 3070, 2625, 3853, 5317, 6687, 8571, 9480, 4051, 3883, 6467, 6655, 6027, 6636, 7141, 8884, 2846, 2424, 1290, 3539, 1095, 8966, 3595, 5830, 7396, 2731, 7611, 419, 4751, 8049, 2020, 1747, 2657, 3768, 8936, 4942, 8010, 6163, 2548, 6548, 5791, 4426, 9516, 8170, 2043, 2439, 3046, 3511, 3257, 5755, 7961, 8388, 4198, 1587, 398, 8894, 3214, 6916, 8674, 339, 5784, 9622, 533, 1225, 1515, 696, 1945, 1271, 1435, 1441, 5405, 5652, 9937, 6763, 1773, 2682, 6135, 7148, 8004, 8676, 9335, 4324, 2180, 399, 6183, 2227, 6725, 7780, 6961, 2214, 3171, 4263, 9151, 529, 200, 481, 5269, 3229, 5715, 71, 1413, 8297, 176, 8178, 4247, 7551, 1045, 8323, 179, 965, 993, 3012, 1634, 2648, 7887, 6566, 8089, 3308, 5577, 1727, 374, 1158, 8836, 1222, 6004, 3210, 9648, 8347, 7460, 927, 1140, 8714, 1616, 9117, 6963, 8393, 7315, 1886, 8636, 7655, 7550, 8577, 4743, 8110, 3921, 450, 9497, 786, 5576, 3148, 8431, 7571, 1642, 7187, 9124, 5078, 9080, 2195, 7456, 8968, 617, 13, 261, 3544, 8864, 1838, 3100, 6386, 3782, 4938, 6160, 5428, 567, 9183, 4522, 2571, 5295, 5840, 130, 5542, 361, 1496, 1834, 3078, 9989, 4160, 962, 848, 3358, 6442, 9705, 7604, 2659, 3069, 8038, 7709, 7310, 9993, 7469, 5127, 6518, 3258, 9245, 4940, 3686, 1071, 9344, 7492, 2837, 3191, 3638, 5744, 7773, 5616, 8763, 7257, 9918, 4554, 9064, 5709, 3463, 2016, 1326, 2374, 203, 2308, 1169, 8073, 138, 7868, 3292, 928, 9856, 317, 9795, 4246, 4052, 3101, 3504, 4627, 4486, 2131, 1498, 4764, 4924, 4099, 1077, 6864, 7747, 2642, 6904, 8685, 6926, 9595, 5417, 2767, 477, 5369, 58, 364, 747, 8617, 5889, 855, 6836, 8559, 9029, 3741, 1652, 428, 8113, 3852, 8696, 52, 9936, 1549, 1115, 3113, 8601, 9472, 9696, 2266, 1256, 9182, 5945, 4294, 6421, 9841, 164, 1859, 7432, 7160, 5543, 4271, 836, 3239, 2087, 366, 7714, 5921, 8420, 5802, 3338, 1969, 902, 8957, 6679, 611, 8912, 9112, 451, 6775, 594, 1531, 7601, 5551, 642, 6710, 8811, 960, 3261, 9641, 1853, 1082, 6340, 7803, 7521, 8692, 2449, 9479, 2583, 2563, 6970, 8765, 9135, 4425, 7101, 8173, 712, 2915, 2827, 245, 5411, 5265, 2047, 3976, 9302, 9953, 8307, 250, 4079, 4685, 2040, 2947, 3314, 4129, 2284, 4460, 3855, 6565, 6241, 2142, 964, 4845, 8274, 1464, 8812, 850, 6749, 3737, 5179, 9812, 9986, 1173, 4908, 4866, 7929, 8906, 2327, 1333, 8602, 3245, 9991, 470, 7083, 8243, 416, 346, 9614, 7614, 243, 9511, 1797, 6297, 852, 9150, 7222, 3048, 2885, 5320, 6883, 6108, 3310, 4731, 6013, 6029, 3373, 9406, 392, 4544, 2967, 4320, 546, 5120, 3899, 8643, 53, 876, 1484, 3701, 5915, 7345, 7657, 938, 1248, 7873, 4591, 2671, 5684, 2921, 2668, 4707, 8366, 7656, 2259, 4140, 2535, 1666, 7366, 1597, 992, 8625, 915, 4400, 4291, 5536, 9473, 4438, 9028, 4744, 6744, 3549, 1783, 5734, 8562, 5210, 1624, 3007, 4058, 3602, 67, 6172, 2341, 7779, 1671, 3631, 8045, 7777, 2850, 2635, 7666, 5457, 2742, 8589, 8229, 8439, 9209, 5163, 6977, 8446, 2517, 7889, 6796, 2135, 9802, 7445, 666, 20, 7470, 8560, 2855, 3836, 3304, 9206, 4793, 911, 1847, 6654, 3558, 9972, 1831, 7755, 6458, 2797, 7855, 5943, 1989, 8599, 1406, 5431, 8640, 1713, 9604, 2631, 266, 1387, 2430, 5216, 8376, 9544, 6359, 237, 5572, 2140, 6605, 9664, 2596, 2495, 7726, 9018, 6768, 1476, 3206, 3084, 9120, 4857, 3260, 8270, 1944, 3951, 8258, 189, 1468, 880, 9875, 7928, 6728, 3556, 8507, 8899, 6813, 2285, 4859, 4242, 952, 5836, 7142, 2714, 9200, 6459, 2634, 3079, 7600, 6699, 5046, 6382, 8506, 4594, 7403, 7327, 3283, 153, 2558, 9840, 7376, 1341, 9734, 6332, 1810, 3962, 2959, 2217, 1538, 8718, 2501, 799, 6155, 5091, 2423, 7147, 6354, 2607, 9687, 6068, 7641, 1452, 8059, 4897, 478, 2621, 6803, 9744, 4480, 5203, 3028, 1049, 1593, 6454, 3496, 1718, 7954, 8332, 9728, 8954, 3929, 3464, 387, 977, 1242, 8301, 1978, 5148, 3233, 3047, 9865, 1061, 7651, 9633, 7390, 3569, 2881, 5279, 5529, 697, 5920, 1159, 8850, 8070, 1145, 9610, 110, 9109, 8227, 2867, 3371, 9910, 7253, 2051, 111, 3762, 5290, 6445, 16, 4166, 5558, 983, 9742, 8154, 4886, 5439, 6276, 4779, 4168, 2849, 4789, 103, 5638, 4710, 3108, 6434, 8471, 7380, 8300, 8949, 2854, 8938, 5533, 4923, 685, 8269, 8694, 2955, 1921, 8382, 8196, 2711, 7885, 3890, 6656, 9297, 950, 2189, 2164, 1860, 1056, 2691, 1185, 8911, 9446, 6881, 4862, 9391, 5811, 4651, 2052, 4130, 1628, 6202, 536, 5303, 1994, 6338, 3885, 2107, 4050, 2397, 264, 8566, 7426, 4055, 2478, 4726, 1682, 5281, 3008, 7197, 4600, 5176, 1741, 482, 5195, 4143, 8886, 4581, 369, 7976, 1846, 6593, 5993, 4773, 8705, 8950, 5751, 5085, 8878, 6358, 781, 7473, 5298, 2895, 8946, 8585, 45, 7642, 4110, 8292, 8883, 3643, 9100, 3253, 6738, 8734, 1712, 7277, 2567, 5730, 664, 95, 2083, 7989, 2473, 8955, 2228, 1350, 476, 8057, 4703, 1932, 5917, 5828, 3344, 1210, 2175, 4290, 6433, 3339, 1843, 1264, 6334, 4041, 3348, 6668, 9158, 8019, 1178, 3935, 3991, 540, 1330, 2587, 9661, 3530, 930, 4315, 25, 3715, 4816, 8496, 3998, 453, 2845, 9974, 3731, 7079, 9001, 165, 3513, 3336, 986, 9957, 4186, 8060, 5122, 4690, 1373, 3117, 2063, 9020, 3928, 602, 3198, 8216, 1422, 569, 6587, 5153, 550, 8299, 343, 3800, 8755, 8491, 5504, 5028, 3351, 239, 7879, 6740, 9392, 3267, 62, 9487, 1400, 4898, 3018, 4708, 7059, 2645, 7203, 4786, 118, 1103, 5147, 3010, 4499, 6818, 1930, 4043, 7874, 9271, 7880, 9024, 8184, 5812, 2304, 3301, 5436, 7480, 3440, 4253, 394, 7782, 9548, 8895, 1371, 2314, 5593, 1656, 9133, 4873, 2299, 7405, 3177, 5291, 6564, 1322, 6979, 6551, 6497, 3685, 7005, 7819, 3987, 6793, 9668, 9223, 5582, 2354, 1508, 4960, 5999, 8172, 4939, 5031, 3810, 8346, 6094]\n",
      "*** Insert Sort ***\n",
      "Elapsed Time:  1.4253408908843994\n",
      "[9999, 9998, 9997, 9996, 9995, 9994, 9993, 9992, 9991, 9990, 9989, 9988, 9987, 9986, 9985, 9984, 9983, 9982, 9981, 9980]\n"
     ]
    }
   ],
   "source": [
    "import random\n",
    "import time\n",
    "\n",
    "def insert_sort(input_list, reverse):\n",
    "    ''' A custom function to sort number sequences using insert sort\n",
    "    Parameters:\n",
    "    Input:  input_list  - Expecting a list of numerical numbers\n",
    "\n",
    "    Output: input_list  - sorted list\n",
    "    '''\n",
    "    if type(reverse) != bool:\n",
    "        return None\n",
    "    if type(input_list)!=list:\n",
    "            input_list = list(input_list)\n",
    "    if reverse == False:\n",
    "        for index in range(1, len(input_list)):\n",
    "\n",
    "            # Compare and sort elements one by one\n",
    "            current = input_list[index]\n",
    "\n",
    "            # Verify the type of each element\n",
    "            if type(current)!=int and type(current)!=float:\n",
    "                current = float(current)\n",
    "\n",
    "            # Insert to previous sorted sub-list\n",
    "            while  index>0 and input_list[index-1]>current:\n",
    "                # Insert iteratively until insert condition is False\n",
    "                input_list[index] = input_list[index-1]\n",
    "                input_list[index-1] = current\n",
    "                index -=1\n",
    "        \n",
    "        return input_list\n",
    "    else:\n",
    "        for index in range(1, len(input_list)):\n",
    "\n",
    "            # Compare and sort elements one by one\n",
    "            current = input_list[index]\n",
    "\n",
    "            # Verify the type of each element\n",
    "            if type(current)!=int and type(current)!=float:\n",
    "                current = float(current)\n",
    "\n",
    "            # Insert to previous sorted sub-list\n",
    "            while  index>0 and input_list[index-1]<current:\n",
    "                # Insert iteratively until insert condition is False\n",
    "                input_list[index] = input_list[index-1]\n",
    "                input_list[index-1] = current\n",
    "                index -=1\n",
    "        \n",
    "        return input_list\n",
    "\n",
    "\n",
    "# Generate a sufficiently long list for sorting\n",
    "sample_count = 10000\n",
    "random_input = random.sample(range(0, sample_count),sample_count)\n",
    "print(random_input)\n",
    "# ******** Method 1: Insert Sort ********\n",
    "print('*** Insert Sort ***')\n",
    "result = random_input.copy()\n",
    "begin_time = time.time()\n",
    "insert_sort(result, True)\n",
    "\n",
    "# tic-toc\n",
    "elapsed_time = time.time() - begin_time\n",
    "print('Elapsed Time: ', elapsed_time)\n",
    "print(result[0:20])"
   ]
  },
  {
   "cell_type": "markdown",
   "metadata": {},
   "source": [
    "## Exercise 5\n",
    "Debug:"
   ]
  },
  {
   "cell_type": "code",
   "execution_count": null,
   "metadata": {},
   "outputs": [],
   "source": [
    "result_1 = int('2020')\n",
    "\n",
    "Int = 0\n",
    "Float = int(10.57) #what is the purpose of this"
   ]
  },
  {
   "cell_type": "markdown",
   "metadata": {},
   "source": [
    "# Challenges"
   ]
  },
  {
   "cell_type": "markdown",
   "metadata": {},
   "source": [
    "## Challenge 1\n",
    "Please code a timer function called tic_toc(). The first time calling the function, it will be set in the TIC state, calling time.time() to save the current system clock time; The second time calling the function, it will then be set in the TOC state, returning the time difference between the current system clock time and the previously saved system clock time. After the TOC state return, the function will be reset to wait for the next TIC state function call. Hint: The saved system clock time and the function's state whether it is in the first tic state or the second toc state can be defined as global variables."
   ]
  },
  {
   "cell_type": "code",
   "execution_count": null,
   "metadata": {},
   "outputs": [],
   "source": [
    "tocState = False\n",
    "a = 0\n",
    "def tic_toc():\n",
    "    if tocState:\n",
    "        tocState = False\n",
    "        return a - time.time()\n",
    "    else:\n",
    "        tocState = True\n",
    "        a = time.time()\n",
    "        return"
   ]
  },
  {
   "cell_type": "markdown",
   "metadata": {},
   "source": [
    "## Challenge 2\n",
    "Please code a circular_shift() function, which takes in two arguments: a string called *input_string* and an integer called *direction*. When *direction = -1*, the function will return a string that circularly shifts *input_string* elements to the left by one position. When *direction = 1*, the function will return a string that circularly shifts *input_string* elements to the right by one position. Hint: In here, circular shift means whenever an element is shifted outside the range of the existing string, it will be added back to the string from the opposite side such that the total length and all elements remain the same after circular shift."
   ]
  },
  {
   "cell_type": "code",
   "execution_count": 16,
   "metadata": {},
   "outputs": [
    {
     "name": "stdout",
     "output_type": "stream",
     "text": [
      "elloH\n",
      "oHell\n"
     ]
    }
   ],
   "source": [
    "def circular_shift(input_string, direction):\n",
    "    if type(input_string) == str and type(direction) == int:\n",
    "        if direction == -1:\n",
    "            return input_string[1:] + input_string[0]\n",
    "        elif direction == 1:\n",
    "            return input_string[len(input_string) - 1] + input_string[0:len(input_string) - 1]\n",
    "print(circular_shift(\"Hello\", -1))\n",
    "print(circular_shift(\"Hello\", 1))"
   ]
  }
 ],
 "metadata": {
  "kaggle": {
   "accelerator": "none",
   "dataSources": [],
   "dockerImageVersionId": 30042,
   "isGpuEnabled": false,
   "isInternetEnabled": false,
   "language": "python",
   "sourceType": "notebook"
  },
  "kernelspec": {
   "display_name": "Python 3",
   "language": "python",
   "name": "python3"
  },
  "language_info": {
   "codemirror_mode": {
    "name": "ipython",
    "version": 3
   },
   "file_extension": ".py",
   "mimetype": "text/x-python",
   "name": "python",
   "nbconvert_exporter": "python",
   "pygments_lexer": "ipython3",
   "version": "3.11.0"
  }
 },
 "nbformat": 4,
 "nbformat_minor": 4
}
